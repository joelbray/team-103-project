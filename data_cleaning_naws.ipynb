{
 "cells": [
  {
   "cell_type": "markdown",
   "id": "6f6aa93e",
   "metadata": {},
   "source": [
    "# Cleaning the NAWS demographic and employment data\n",
    "## First steps\n",
    "The data came in two sets, which can be found in the ./raw_data directory, of excel files. \n",
    "\n",
    "In Excel, I manually split the Demographic data into separate sheets, as the data was very tall. I also renamed the year columns to not have spaces and moved the data warnings to .txt files you can find in the ./clean_data directory. \n",
    "\n",
    "This notebook is to take the xls and create csv files for each sheet within the Excel documents. I could have done it in Excel, but why not here!"
   ]
  },
  {
   "cell_type": "code",
   "execution_count": 34,
   "id": "826dc1ae",
   "metadata": {},
   "outputs": [],
   "source": [
    "import pandas as pd\n",
    "import numpy as np"
   ]
  },
  {
   "cell_type": "code",
   "execution_count": 35,
   "id": "c1ecad15",
   "metadata": {},
   "outputs": [],
   "source": [
    "employ_detail = pd.read_excel('./raw_data/NAWS_CA_Employment.xlsx', sheet_name='naws_employment_data', index_col=None, header=0)"
   ]
  },
  {
   "cell_type": "code",
   "execution_count": 36,
   "id": "2b6e2839",
   "metadata": {},
   "outputs": [],
   "source": [
    "employ_totals = pd.read_excel('./raw_data/NAWS_CA_Employment.xlsx', sheet_name='naws_employment_total_responder', index_col=None, header=0)"
   ]
  },
  {
   "cell_type": "code",
   "execution_count": 37,
   "id": "1b35a6a8",
   "metadata": {
    "scrolled": false
   },
   "outputs": [
    {
     "data": {
      "text/plain": [
       "Index(['Characteristic', 'FY_1989_1991', 'FY_1998_2000', 'FY_2007_2009',\n",
       "       'FY_2010_2012', 'FY_2013_2014', 'FY_2015_2016'],\n",
       "      dtype='object')"
      ]
     },
     "execution_count": 37,
     "metadata": {},
     "output_type": "execute_result"
    }
   ],
   "source": [
    "employ_detail.columns"
   ]
  },
  {
   "cell_type": "code",
   "execution_count": 38,
   "id": "ee75e17e",
   "metadata": {
    "scrolled": true
   },
   "outputs": [
    {
     "data": {
      "text/plain": [
       "Index(['year_range', 'total_responders'], dtype='object')"
      ]
     },
     "execution_count": 38,
     "metadata": {},
     "output_type": "execute_result"
    }
   ],
   "source": [
    "employ_totals.columns"
   ]
  },
  {
   "cell_type": "code",
   "execution_count": 39,
   "id": "db9a1c85",
   "metadata": {},
   "outputs": [],
   "source": [
    "naws_income = pd.read_excel('./raw_data/NAWS_CA_Demographics.xlsx', sheet_name='naws_income', index_col=None, header=0)\n",
    "naws_ethnicity = pd.read_excel('./raw_data/NAWS_CA_Demographics.xlsx', sheet_name='naws_ethnicity', index_col=None, header=0)\n",
    "naws_education = pd.read_excel('./raw_data/NAWS_CA_Demographics.xlsx', sheet_name='naws_education', index_col=None, header=0)\n",
    "naws_age_sex = pd.read_excel('./raw_data/NAWS_CA_Demographics.xlsx', sheet_name='naws_age_sex', index_col=None, header=0)\n",
    "naws_legal = pd.read_excel('./raw_data/NAWS_CA_Demographics.xlsx', sheet_name='naws_legal_status', index_col=None, header=0)\n",
    "naws_totals = pd.read_excel('./raw_data/NAWS_CA_Demographics.xlsx', sheet_name='naws_total_demo_responders', index_col=None, header=0)"
   ]
  },
  {
   "cell_type": "code",
   "execution_count": 40,
   "id": "69238c75",
   "metadata": {},
   "outputs": [],
   "source": [
    "# create the csv files from the employment data\n",
    "\n",
    "employ_detail.to_csv(path_or_buf='cleaned_data/employ_detail.csv',index=False)\n",
    "employ_totals.to_csv(path_or_buf='cleaned_data/employ_totals.csv',index=False)\n",
    "naws_income.to_csv(path_or_buf='cleaned_data/naws_income.csv',index=False)\n",
    "naws_ethnicity.to_csv(path_or_buf='cleaned_data/naws_ethnicity.csv',index=False)\n",
    "naws_education.to_csv(path_or_buf='cleaned_data/naws_education.csv',index=False)\n",
    "naws_age_sex.to_csv(path_or_buf='cleaned_data/naws_age_sex.csv',index=False)\n",
    "naws_legal.to_csv(path_or_buf='cleaned_data/naws_legal.csv',index=False)\n",
    "naws_totals.to_csv(path_or_buf='cleaned_data/naws_demo_totals.csv',index=False)"
   ]
  }
 ],
 "metadata": {
  "kernelspec": {
   "display_name": "Python 3",
   "language": "python",
   "name": "python3"
  },
  "language_info": {
   "codemirror_mode": {
    "name": "ipython",
    "version": 3
   },
   "file_extension": ".py",
   "mimetype": "text/x-python",
   "name": "python",
   "nbconvert_exporter": "python",
   "pygments_lexer": "ipython3",
   "version": "3.9.1"
  }
 },
 "nbformat": 4,
 "nbformat_minor": 5
}
