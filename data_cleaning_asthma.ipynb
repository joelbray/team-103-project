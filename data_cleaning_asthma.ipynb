{
 "cells": [
  {
   "cell_type": "markdown",
   "metadata": {},
   "source": [
    "# Asthma ED Visit Rates - Data Cleaning"
   ]
  },
  {
   "cell_type": "code",
   "execution_count": 1,
   "metadata": {},
   "outputs": [],
   "source": [
    "import pandas as pd\n",
    "import numpy as np\n",
    "from siuba import _, select, rename, mutate, group_by, arrange, filter, summarize, distinct\n",
    "# https://siuba.readthedocs.io/en/latest/api_index.html\n",
    "# https://timmastny.rbind.io/blog/why-you-should-use-siuba-dplyr-for-python/"
   ]
  },
  {
   "cell_type": "code",
   "execution_count": 2,
   "metadata": {},
   "outputs": [],
   "source": [
    "df_raw = pd.read_csv('~/Google Drive/DS4A Empowerment/Team 103 Shared/Data Sources/California Department of Public Health/asthma-ed-visit-rates_2019.csv')"
   ]
  },
  {
   "cell_type": "code",
   "execution_count": 3,
   "metadata": {},
   "outputs": [
    {
     "name": "stdout",
     "output_type": "stream",
     "text": [
      "<class 'pandas.core.frame.DataFrame'>\n",
      "RangeIndex: 9484 entries, 0 to 9483\n",
      "Data columns (total 10 columns):\n",
      " #   Column               Non-Null Count  Dtype  \n",
      "---  ------               --------------  -----  \n",
      " 0   LGHC Indicator Name  9484 non-null   object \n",
      " 1   Geography            9484 non-null   object \n",
      " 2   Year                 9484 non-null   int64  \n",
      " 3   Age Group            9484 non-null   object \n",
      " 4   Strata               9484 non-null   object \n",
      " 5   Strata Name          9484 non-null   object \n",
      " 6   Numerator            9484 non-null   object \n",
      " 7   Rate                 9370 non-null   float64\n",
      " 8   LGHC Indicator ID    9484 non-null   int64  \n",
      " 9   LGHC Target Rate     9484 non-null   int64  \n",
      "dtypes: float64(1), int64(3), object(6)\n",
      "memory usage: 741.1+ KB\n"
     ]
    }
   ],
   "source": [
    "df_raw.info()"
   ]
  },
  {
   "cell_type": "code",
   "execution_count": 4,
   "metadata": {},
   "outputs": [
    {
     "data": {
      "text/plain": [
       "(9484, 10)"
      ]
     },
     "execution_count": 4,
     "metadata": {},
     "output_type": "execute_result"
    }
   ],
   "source": [
    "df_raw.shape"
   ]
  },
  {
   "cell_type": "code",
   "execution_count": 5,
   "metadata": {},
   "outputs": [
    {
     "data": {
      "text/html": [
       "<div>\n",
       "<style scoped>\n",
       "    .dataframe tbody tr th:only-of-type {\n",
       "        vertical-align: middle;\n",
       "    }\n",
       "\n",
       "    .dataframe tbody tr th {\n",
       "        vertical-align: top;\n",
       "    }\n",
       "\n",
       "    .dataframe thead th {\n",
       "        text-align: right;\n",
       "    }\n",
       "</style>\n",
       "<table border=\"1\" class=\"dataframe\">\n",
       "  <thead>\n",
       "    <tr style=\"text-align: right;\">\n",
       "      <th></th>\n",
       "      <th>LGHC Indicator Name</th>\n",
       "      <th>Geography</th>\n",
       "      <th>Year</th>\n",
       "      <th>Age Group</th>\n",
       "      <th>Strata</th>\n",
       "      <th>Strata Name</th>\n",
       "      <th>Numerator</th>\n",
       "      <th>Rate</th>\n",
       "      <th>LGHC Indicator ID</th>\n",
       "      <th>LGHC Target Rate</th>\n",
       "    </tr>\n",
       "  </thead>\n",
       "  <tbody>\n",
       "    <tr>\n",
       "      <th>0</th>\n",
       "      <td>Asthma ED Visit Rates</td>\n",
       "      <td>Alameda</td>\n",
       "      <td>2015</td>\n",
       "      <td>18 and Over</td>\n",
       "      <td>Total Population</td>\n",
       "      <td>18 and Over</td>\n",
       "      <td>6,513</td>\n",
       "      <td>53.1</td>\n",
       "      <td>7</td>\n",
       "      <td>28</td>\n",
       "    </tr>\n",
       "    <tr>\n",
       "      <th>1</th>\n",
       "      <td>Asthma ED Visit Rates</td>\n",
       "      <td>Amador</td>\n",
       "      <td>2015</td>\n",
       "      <td>18 and Over</td>\n",
       "      <td>Total Population</td>\n",
       "      <td>18 and Over</td>\n",
       "      <td>151</td>\n",
       "      <td>49.1</td>\n",
       "      <td>7</td>\n",
       "      <td>28</td>\n",
       "    </tr>\n",
       "    <tr>\n",
       "      <th>2</th>\n",
       "      <td>Asthma ED Visit Rates</td>\n",
       "      <td>Butte</td>\n",
       "      <td>2015</td>\n",
       "      <td>18 and Over</td>\n",
       "      <td>Total Population</td>\n",
       "      <td>18 and Over</td>\n",
       "      <td>736</td>\n",
       "      <td>43.8</td>\n",
       "      <td>7</td>\n",
       "      <td>28</td>\n",
       "    </tr>\n",
       "    <tr>\n",
       "      <th>3</th>\n",
       "      <td>Asthma ED Visit Rates</td>\n",
       "      <td>Calaveras</td>\n",
       "      <td>2015</td>\n",
       "      <td>18 and Over</td>\n",
       "      <td>Total Population</td>\n",
       "      <td>18 and Over</td>\n",
       "      <td>139</td>\n",
       "      <td>42.7</td>\n",
       "      <td>7</td>\n",
       "      <td>28</td>\n",
       "    </tr>\n",
       "    <tr>\n",
       "      <th>4</th>\n",
       "      <td>Asthma ED Visit Rates</td>\n",
       "      <td>California</td>\n",
       "      <td>2015</td>\n",
       "      <td>18 and Over</td>\n",
       "      <td>Total Population</td>\n",
       "      <td>18 and Over</td>\n",
       "      <td>117,854</td>\n",
       "      <td>40.0</td>\n",
       "      <td>7</td>\n",
       "      <td>28</td>\n",
       "    </tr>\n",
       "  </tbody>\n",
       "</table>\n",
       "</div>"
      ],
      "text/plain": [
       "     LGHC Indicator Name   Geography  Year    Age Group            Strata  \\\n",
       "0  Asthma ED Visit Rates     Alameda  2015  18 and Over  Total Population   \n",
       "1  Asthma ED Visit Rates      Amador  2015  18 and Over  Total Population   \n",
       "2  Asthma ED Visit Rates       Butte  2015  18 and Over  Total Population   \n",
       "3  Asthma ED Visit Rates   Calaveras  2015  18 and Over  Total Population   \n",
       "4  Asthma ED Visit Rates  California  2015  18 and Over  Total Population   \n",
       "\n",
       "   Strata Name Numerator  Rate  LGHC Indicator ID  LGHC Target Rate  \n",
       "0  18 and Over     6,513  53.1                  7                28  \n",
       "1  18 and Over       151  49.1                  7                28  \n",
       "2  18 and Over       736  43.8                  7                28  \n",
       "3  18 and Over       139  42.7                  7                28  \n",
       "4  18 and Over   117,854  40.0                  7                28  "
      ]
     },
     "execution_count": 5,
     "metadata": {},
     "output_type": "execute_result"
    }
   ],
   "source": [
    "df_raw.head()"
   ]
  },
  {
   "cell_type": "code",
   "execution_count": 6,
   "metadata": {},
   "outputs": [
    {
     "data": {
      "text/plain": [
       "LGHC Indicator Name     object\n",
       "Geography               object\n",
       "Year                     int64\n",
       "Age Group               object\n",
       "Strata                  object\n",
       "Strata Name             object\n",
       "Numerator               object\n",
       "Rate                   float64\n",
       "LGHC Indicator ID        int64\n",
       "LGHC Target Rate         int64\n",
       "dtype: object"
      ]
     },
     "execution_count": 6,
     "metadata": {},
     "output_type": "execute_result"
    }
   ],
   "source": [
    "df_raw.dtypes"
   ]
  },
  {
   "cell_type": "code",
   "execution_count": 7,
   "metadata": {},
   "outputs": [],
   "source": [
    "df = (df_raw\n",
    "  >> rename(Age = \"Age Group\", Category = \"Strata\", Demographic = \"Strata Name\", Count = \"Numerator\")\n",
    "  >> select(_.Year, _.Geography, _.Age, _.Category, _.Demographic, _.Count, _.Rate)\n",
    "  >> mutate(Count = _.Count.str.replace(\",\",\"\").astype(int))\n",
    "  )\n",
    "\n",
    "# test = df_raw \\\n",
    "#     .siu_rename(Age = \"Age Group\", Category = \"Strata\", Demographic = \"Strata Name\", Count = \"Numerator\") \\\n",
    "#     .siu_select(_.Year, _.Geography, _.Age, _.Category, _.Demographic, _.Count, _.Rate) \\\n",
    "#     .siu_mutate(Count = _.Count.str.replace(\",\",\"\").astype(int))"
   ]
  },
  {
   "cell_type": "code",
   "execution_count": 8,
   "metadata": {},
   "outputs": [
    {
     "data": {
      "text/html": [
       "<div>\n",
       "<style scoped>\n",
       "    .dataframe tbody tr th:only-of-type {\n",
       "        vertical-align: middle;\n",
       "    }\n",
       "\n",
       "    .dataframe tbody tr th {\n",
       "        vertical-align: top;\n",
       "    }\n",
       "\n",
       "    .dataframe thead th {\n",
       "        text-align: right;\n",
       "    }\n",
       "</style>\n",
       "<table border=\"1\" class=\"dataframe\">\n",
       "  <thead>\n",
       "    <tr style=\"text-align: right;\">\n",
       "      <th></th>\n",
       "      <th>Year</th>\n",
       "      <th>Count</th>\n",
       "      <th>Rate</th>\n",
       "    </tr>\n",
       "  </thead>\n",
       "  <tbody>\n",
       "    <tr>\n",
       "      <th>count</th>\n",
       "      <td>9484.000000</td>\n",
       "      <td>9484.000000</td>\n",
       "      <td>9370.000000</td>\n",
       "    </tr>\n",
       "    <tr>\n",
       "      <th>mean</th>\n",
       "      <td>2015.038170</td>\n",
       "      <td>2002.594791</td>\n",
       "      <td>66.991793</td>\n",
       "    </tr>\n",
       "    <tr>\n",
       "      <th>std</th>\n",
       "      <td>2.584401</td>\n",
       "      <td>9425.124379</td>\n",
       "      <td>86.053953</td>\n",
       "    </tr>\n",
       "    <tr>\n",
       "      <th>min</th>\n",
       "      <td>2011.000000</td>\n",
       "      <td>7.000000</td>\n",
       "      <td>5.200000</td>\n",
       "    </tr>\n",
       "    <tr>\n",
       "      <th>25%</th>\n",
       "      <td>2013.000000</td>\n",
       "      <td>57.000000</td>\n",
       "      <td>33.800000</td>\n",
       "    </tr>\n",
       "    <tr>\n",
       "      <th>50%</th>\n",
       "      <td>2015.000000</td>\n",
       "      <td>252.000000</td>\n",
       "      <td>48.900000</td>\n",
       "    </tr>\n",
       "    <tr>\n",
       "      <th>75%</th>\n",
       "      <td>2017.000000</td>\n",
       "      <td>954.250000</td>\n",
       "      <td>71.600000</td>\n",
       "    </tr>\n",
       "    <tr>\n",
       "      <th>max</th>\n",
       "      <td>2019.000000</td>\n",
       "      <td>191904.000000</td>\n",
       "      <td>4564.100000</td>\n",
       "    </tr>\n",
       "  </tbody>\n",
       "</table>\n",
       "</div>"
      ],
      "text/plain": [
       "              Year          Count         Rate\n",
       "count  9484.000000    9484.000000  9370.000000\n",
       "mean   2015.038170    2002.594791    66.991793\n",
       "std       2.584401    9425.124379    86.053953\n",
       "min    2011.000000       7.000000     5.200000\n",
       "25%    2013.000000      57.000000    33.800000\n",
       "50%    2015.000000     252.000000    48.900000\n",
       "75%    2017.000000     954.250000    71.600000\n",
       "max    2019.000000  191904.000000  4564.100000"
      ]
     },
     "execution_count": 8,
     "metadata": {},
     "output_type": "execute_result"
    }
   ],
   "source": [
    "df.describe()"
   ]
  },
  {
   "cell_type": "code",
   "execution_count": 9,
   "metadata": {},
   "outputs": [
    {
     "data": {
      "text/plain": [
       "(114, 7)"
      ]
     },
     "execution_count": 9,
     "metadata": {},
     "output_type": "execute_result"
    }
   ],
   "source": [
    "df[df.isnull().any(axis=1)].shape # dimensions of rows with null values"
   ]
  },
  {
   "cell_type": "code",
   "execution_count": 10,
   "metadata": {},
   "outputs": [
    {
     "data": {
      "text/html": [
       "<div>\n",
       "<style scoped>\n",
       "    .dataframe tbody tr th:only-of-type {\n",
       "        vertical-align: middle;\n",
       "    }\n",
       "\n",
       "    .dataframe tbody tr th {\n",
       "        vertical-align: top;\n",
       "    }\n",
       "\n",
       "    .dataframe thead th {\n",
       "        text-align: right;\n",
       "    }\n",
       "</style>\n",
       "<table border=\"1\" class=\"dataframe\">\n",
       "  <thead>\n",
       "    <tr style=\"text-align: right;\">\n",
       "      <th></th>\n",
       "      <th>Rate</th>\n",
       "    </tr>\n",
       "  </thead>\n",
       "  <tbody>\n",
       "    <tr>\n",
       "      <th>0</th>\n",
       "      <td>53.1</td>\n",
       "    </tr>\n",
       "    <tr>\n",
       "      <th>1</th>\n",
       "      <td>49.1</td>\n",
       "    </tr>\n",
       "    <tr>\n",
       "      <th>2</th>\n",
       "      <td>43.8</td>\n",
       "    </tr>\n",
       "    <tr>\n",
       "      <th>3</th>\n",
       "      <td>42.7</td>\n",
       "    </tr>\n",
       "    <tr>\n",
       "      <th>4</th>\n",
       "      <td>40.0</td>\n",
       "    </tr>\n",
       "    <tr>\n",
       "      <th>...</th>\n",
       "      <td>...</td>\n",
       "    </tr>\n",
       "    <tr>\n",
       "      <th>9479</th>\n",
       "      <td>81.2</td>\n",
       "    </tr>\n",
       "    <tr>\n",
       "      <th>9480</th>\n",
       "      <td>90.0</td>\n",
       "    </tr>\n",
       "    <tr>\n",
       "      <th>9481</th>\n",
       "      <td>61.0</td>\n",
       "    </tr>\n",
       "    <tr>\n",
       "      <th>9482</th>\n",
       "      <td>52.4</td>\n",
       "    </tr>\n",
       "    <tr>\n",
       "      <th>9483</th>\n",
       "      <td>52.9</td>\n",
       "    </tr>\n",
       "  </tbody>\n",
       "</table>\n",
       "<p>9484 rows × 1 columns</p>\n",
       "</div>"
      ],
      "text/plain": [
       "      Rate\n",
       "0     53.1\n",
       "1     49.1\n",
       "2     43.8\n",
       "3     42.7\n",
       "4     40.0\n",
       "...    ...\n",
       "9479  81.2\n",
       "9480  90.0\n",
       "9481  61.0\n",
       "9482  52.4\n",
       "9483  52.9\n",
       "\n",
       "[9484 rows x 1 columns]"
      ]
     },
     "execution_count": 10,
     "metadata": {},
     "output_type": "execute_result"
    }
   ],
   "source": [
    "df.loc[:, df.isnull().any()] # columns with null values"
   ]
  },
  {
   "cell_type": "code",
   "execution_count": 11,
   "metadata": {},
   "outputs": [
    {
     "data": {
      "text/html": [
       "<div>\n",
       "<style scoped>\n",
       "    .dataframe tbody tr th:only-of-type {\n",
       "        vertical-align: middle;\n",
       "    }\n",
       "\n",
       "    .dataframe tbody tr th {\n",
       "        vertical-align: top;\n",
       "    }\n",
       "\n",
       "    .dataframe thead th {\n",
       "        text-align: right;\n",
       "    }\n",
       "</style>\n",
       "<table border=\"1\" class=\"dataframe\">\n",
       "  <thead>\n",
       "    <tr style=\"text-align: right;\">\n",
       "      <th></th>\n",
       "      <th>Year</th>\n",
       "      <th>Count</th>\n",
       "      <th>Rate</th>\n",
       "    </tr>\n",
       "  </thead>\n",
       "  <tbody>\n",
       "    <tr>\n",
       "      <th>count</th>\n",
       "      <td>114.000000</td>\n",
       "      <td>114.000000</td>\n",
       "      <td>0.0</td>\n",
       "    </tr>\n",
       "    <tr>\n",
       "      <th>mean</th>\n",
       "      <td>2015.140351</td>\n",
       "      <td>10.912281</td>\n",
       "      <td>NaN</td>\n",
       "    </tr>\n",
       "    <tr>\n",
       "      <th>std</th>\n",
       "      <td>2.636964</td>\n",
       "      <td>0.507665</td>\n",
       "      <td>NaN</td>\n",
       "    </tr>\n",
       "    <tr>\n",
       "      <th>min</th>\n",
       "      <td>2011.000000</td>\n",
       "      <td>7.000000</td>\n",
       "      <td>NaN</td>\n",
       "    </tr>\n",
       "    <tr>\n",
       "      <th>25%</th>\n",
       "      <td>2013.000000</td>\n",
       "      <td>11.000000</td>\n",
       "      <td>NaN</td>\n",
       "    </tr>\n",
       "    <tr>\n",
       "      <th>50%</th>\n",
       "      <td>2015.000000</td>\n",
       "      <td>11.000000</td>\n",
       "      <td>NaN</td>\n",
       "    </tr>\n",
       "    <tr>\n",
       "      <th>75%</th>\n",
       "      <td>2017.000000</td>\n",
       "      <td>11.000000</td>\n",
       "      <td>NaN</td>\n",
       "    </tr>\n",
       "    <tr>\n",
       "      <th>max</th>\n",
       "      <td>2019.000000</td>\n",
       "      <td>11.000000</td>\n",
       "      <td>NaN</td>\n",
       "    </tr>\n",
       "  </tbody>\n",
       "</table>\n",
       "</div>"
      ],
      "text/plain": [
       "              Year       Count  Rate\n",
       "count   114.000000  114.000000   0.0\n",
       "mean   2015.140351   10.912281   NaN\n",
       "std       2.636964    0.507665   NaN\n",
       "min    2011.000000    7.000000   NaN\n",
       "25%    2013.000000   11.000000   NaN\n",
       "50%    2015.000000   11.000000   NaN\n",
       "75%    2017.000000   11.000000   NaN\n",
       "max    2019.000000   11.000000   NaN"
      ]
     },
     "execution_count": 11,
     "metadata": {},
     "output_type": "execute_result"
    }
   ],
   "source": [
    "df[df.isnull().any(axis=1)].describe()"
   ]
  },
  {
   "cell_type": "code",
   "execution_count": 12,
   "metadata": {},
   "outputs": [],
   "source": [
    "df.to_csv('cleaned_data/asthma_clean_file.csv', encoding = 'utf-8', index = False)"
   ]
  }
 ],
 "metadata": {
  "kernelspec": {
   "display_name": "Python 3",
   "language": "python",
   "name": "python3"
  },
  "language_info": {
   "codemirror_mode": {
    "name": "ipython",
    "version": 3
   },
   "file_extension": ".py",
   "mimetype": "text/x-python",
   "name": "python",
   "nbconvert_exporter": "python",
   "pygments_lexer": "ipython3",
   "version": "3.9.1"
  }
 },
 "nbformat": 4,
 "nbformat_minor": 4
}
