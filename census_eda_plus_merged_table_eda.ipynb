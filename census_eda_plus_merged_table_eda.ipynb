{
 "cells": [
  {
   "cell_type": "code",
   "execution_count": null,
   "metadata": {},
   "outputs": [],
   "source": [
    "pip install -r requirements.txt"
   ]
  },
  {
   "cell_type": "code",
   "execution_count": 1,
   "metadata": {},
   "outputs": [],
   "source": [
    "import pandas as pd\n",
    "import numpy as np\n",
    "import seaborn as sns\n",
    "import matplotlib.pyplot as plt\n",
    "from siuba import _, select, rename, mutate, group_by, arrange, filter, summarize, distinct, left_join"
   ]
  },
  {
   "cell_type": "code",
   "execution_count": 2,
   "metadata": {},
   "outputs": [],
   "source": [
    "df = pd.read_csv('cleaned_data/census_demographics.csv')"
   ]
  },
  {
   "cell_type": "code",
   "execution_count": 3,
   "metadata": {},
   "outputs": [],
   "source": [
    "df_health = pd.read_csv('cleaned_data/asthma_clean_file.csv')"
   ]
  },
  {
   "cell_type": "code",
   "execution_count": 4,
   "metadata": {},
   "outputs": [],
   "source": [
    "df_complete = pd.read_csv('cleaned_data/complete_merged_table.csv')"
   ]
  },
  {
   "cell_type": "code",
   "execution_count": 5,
   "metadata": {},
   "outputs": [
    {
     "name": "stdout",
     "output_type": "stream",
     "text": [
      "<class 'pandas.core.frame.DataFrame'>\n",
      "RangeIndex: 58 entries, 0 to 57\n",
      "Data columns (total 23 columns):\n",
      " #   Column                             Non-Null Count  Dtype  \n",
      "---  ------                             --------------  -----  \n",
      " 0   County                             58 non-null     object \n",
      " 1   TotalPopulation                    58 non-null     int64  \n",
      " 2   TotalWhiteNotHispanic              58 non-null     int64  \n",
      " 3   TotalBlack                         58 non-null     int64  \n",
      " 4   TotalAsian                         58 non-null     int64  \n",
      " 5   TotalHispanicLatino                58 non-null     int64  \n",
      " 6   MedianIncome                       58 non-null     int64  \n",
      " 7   MedianIncomeForeignBorn            57 non-null     float64\n",
      " 8   TotalBelowPovertyLine              58 non-null     int64  \n",
      " 9   TotalForeignBornBelowPoveryLine    58 non-null     int64  \n",
      " 10  TotalHSDiploma                     58 non-null     int64  \n",
      " 11  TotalBachelorsDegree               58 non-null     int64  \n",
      " 12  TotalPop16Above                    58 non-null     int64  \n",
      " 13  TotalPop16AboveInLaborForce        58 non-null     int64  \n",
      " 14  TotalPop16AboveNotInLaborForce     58 non-null     int64  \n",
      " 15  TotalPopSurveyInsurance            58 non-null     int64  \n",
      " 16  TotalEmployedWithInsurance         58 non-null     int64  \n",
      " 17  TotalEmployedWithInsurancePrivate  58 non-null     int64  \n",
      " 18  TotalEmployedWithInsurancePublic   58 non-null     int64  \n",
      " 19  TotalEmployedNoInsurance           58 non-null     int64  \n",
      " 20  TotalUnemployedNoInsurance         58 non-null     int64  \n",
      " 21  TotalNotInLaborForceNoInsurance    58 non-null     int64  \n",
      " 22  FullCounty                         58 non-null     object \n",
      "dtypes: float64(1), int64(20), object(2)\n",
      "memory usage: 10.5+ KB\n"
     ]
    }
   ],
   "source": [
    "df.info()"
   ]
  },
  {
   "cell_type": "code",
   "execution_count": 6,
   "metadata": {
    "scrolled": true
   },
   "outputs": [
    {
     "data": {
      "text/html": [
       "<div>\n",
       "<style scoped>\n",
       "    .dataframe tbody tr th:only-of-type {\n",
       "        vertical-align: middle;\n",
       "    }\n",
       "\n",
       "    .dataframe tbody tr th {\n",
       "        vertical-align: top;\n",
       "    }\n",
       "\n",
       "    .dataframe thead th {\n",
       "        text-align: right;\n",
       "    }\n",
       "</style>\n",
       "<table border=\"1\" class=\"dataframe\">\n",
       "  <thead>\n",
       "    <tr style=\"text-align: right;\">\n",
       "      <th></th>\n",
       "      <th>TotalPopulation</th>\n",
       "      <th>TotalWhiteNotHispanic</th>\n",
       "      <th>TotalBlack</th>\n",
       "      <th>TotalAsian</th>\n",
       "      <th>TotalHispanicLatino</th>\n",
       "      <th>MedianIncome</th>\n",
       "      <th>MedianIncomeForeignBorn</th>\n",
       "      <th>TotalBelowPovertyLine</th>\n",
       "      <th>TotalForeignBornBelowPoveryLine</th>\n",
       "      <th>TotalHSDiploma</th>\n",
       "      <th>...</th>\n",
       "      <th>TotalPop16Above</th>\n",
       "      <th>TotalPop16AboveInLaborForce</th>\n",
       "      <th>TotalPop16AboveNotInLaborForce</th>\n",
       "      <th>TotalPopSurveyInsurance</th>\n",
       "      <th>TotalEmployedWithInsurance</th>\n",
       "      <th>TotalEmployedWithInsurancePrivate</th>\n",
       "      <th>TotalEmployedWithInsurancePublic</th>\n",
       "      <th>TotalEmployedNoInsurance</th>\n",
       "      <th>TotalUnemployedNoInsurance</th>\n",
       "      <th>TotalNotInLaborForceNoInsurance</th>\n",
       "    </tr>\n",
       "  </thead>\n",
       "  <tbody>\n",
       "    <tr>\n",
       "      <th>count</th>\n",
       "      <td>5.800000e+01</td>\n",
       "      <td>5.800000e+01</td>\n",
       "      <td>58.000000</td>\n",
       "      <td>5.800000e+01</td>\n",
       "      <td>5.800000e+01</td>\n",
       "      <td>58.000000</td>\n",
       "      <td>57.000000</td>\n",
       "      <td>5.800000e+01</td>\n",
       "      <td>58.000000</td>\n",
       "      <td>5.800000e+01</td>\n",
       "      <td>...</td>\n",
       "      <td>5.800000e+01</td>\n",
       "      <td>5.800000e+01</td>\n",
       "      <td>5.800000e+01</td>\n",
       "      <td>5.800000e+01</td>\n",
       "      <td>5.800000e+01</td>\n",
       "      <td>5.800000e+01</td>\n",
       "      <td>58.000000</td>\n",
       "      <td>58.000000</td>\n",
       "      <td>58.000000</td>\n",
       "      <td>58.000000</td>\n",
       "    </tr>\n",
       "    <tr>\n",
       "      <th>mean</th>\n",
       "      <td>6.773017e+05</td>\n",
       "      <td>2.518157e+05</td>\n",
       "      <td>39208.758621</td>\n",
       "      <td>9.814522e+04</td>\n",
       "      <td>2.642705e+05</td>\n",
       "      <td>30963.620690</td>\n",
       "      <td>27131.947368</td>\n",
       "      <td>8.878866e+04</td>\n",
       "      <td>26633.396552</td>\n",
       "      <td>8.298707e+04</td>\n",
       "      <td>...</td>\n",
       "      <td>5.393908e+05</td>\n",
       "      <td>3.434749e+05</td>\n",
       "      <td>1.959159e+05</td>\n",
       "      <td>6.687472e+05</td>\n",
       "      <td>2.700205e+05</td>\n",
       "      <td>2.310899e+05</td>\n",
       "      <td>45866.758621</td>\n",
       "      <td>29411.465517</td>\n",
       "      <td>3453.982759</td>\n",
       "      <td>10981.706897</td>\n",
       "    </tr>\n",
       "    <tr>\n",
       "      <th>std</th>\n",
       "      <td>1.469524e+06</td>\n",
       "      <td>4.362806e+05</td>\n",
       "      <td>114855.088637</td>\n",
       "      <td>2.389240e+05</td>\n",
       "      <td>6.845517e+05</td>\n",
       "      <td>7354.083205</td>\n",
       "      <td>6564.357945</td>\n",
       "      <td>2.079402e+05</td>\n",
       "      <td>75887.363799</td>\n",
       "      <td>1.862458e+05</td>\n",
       "      <td>...</td>\n",
       "      <td>1.180864e+06</td>\n",
       "      <td>7.653985e+05</td>\n",
       "      <td>4.162612e+05</td>\n",
       "      <td>1.457003e+06</td>\n",
       "      <td>5.940364e+05</td>\n",
       "      <td>5.013539e+05</td>\n",
       "      <td>108132.041837</td>\n",
       "      <td>81429.673384</td>\n",
       "      <td>8575.534364</td>\n",
       "      <td>28847.141339</td>\n",
       "    </tr>\n",
       "    <tr>\n",
       "      <th>min</th>\n",
       "      <td>1.039000e+03</td>\n",
       "      <td>5.510000e+02</td>\n",
       "      <td>2.000000</td>\n",
       "      <td>0.000000e+00</td>\n",
       "      <td>1.300000e+02</td>\n",
       "      <td>18245.000000</td>\n",
       "      <td>11324.000000</td>\n",
       "      <td>2.050000e+02</td>\n",
       "      <td>0.000000</td>\n",
       "      <td>1.730000e+02</td>\n",
       "      <td>...</td>\n",
       "      <td>8.530000e+02</td>\n",
       "      <td>3.920000e+02</td>\n",
       "      <td>4.610000e+02</td>\n",
       "      <td>1.039000e+03</td>\n",
       "      <td>2.330000e+02</td>\n",
       "      <td>1.900000e+02</td>\n",
       "      <td>68.000000</td>\n",
       "      <td>38.000000</td>\n",
       "      <td>8.000000</td>\n",
       "      <td>38.000000</td>\n",
       "    </tr>\n",
       "    <tr>\n",
       "      <th>25%</th>\n",
       "      <td>4.764675e+04</td>\n",
       "      <td>3.079650e+04</td>\n",
       "      <td>644.750000</td>\n",
       "      <td>7.717500e+02</td>\n",
       "      <td>9.949750e+03</td>\n",
       "      <td>25765.500000</td>\n",
       "      <td>23380.000000</td>\n",
       "      <td>5.471000e+03</td>\n",
       "      <td>548.750000</td>\n",
       "      <td>8.501250e+03</td>\n",
       "      <td>...</td>\n",
       "      <td>4.058400e+04</td>\n",
       "      <td>1.936000e+04</td>\n",
       "      <td>1.901325e+04</td>\n",
       "      <td>4.657675e+04</td>\n",
       "      <td>1.507150e+04</td>\n",
       "      <td>1.280825e+04</td>\n",
       "      <td>3084.250000</td>\n",
       "      <td>1487.000000</td>\n",
       "      <td>247.000000</td>\n",
       "      <td>691.750000</td>\n",
       "    </tr>\n",
       "    <tr>\n",
       "      <th>50%</th>\n",
       "      <td>1.846320e+05</td>\n",
       "      <td>1.012650e+05</td>\n",
       "      <td>3975.000000</td>\n",
       "      <td>1.036400e+04</td>\n",
       "      <td>5.075650e+04</td>\n",
       "      <td>29496.500000</td>\n",
       "      <td>26197.000000</td>\n",
       "      <td>2.934800e+04</td>\n",
       "      <td>4254.000000</td>\n",
       "      <td>2.147500e+04</td>\n",
       "      <td>...</td>\n",
       "      <td>1.501525e+05</td>\n",
       "      <td>8.436300e+04</td>\n",
       "      <td>6.578950e+04</td>\n",
       "      <td>1.825205e+05</td>\n",
       "      <td>6.652900e+04</td>\n",
       "      <td>5.971300e+04</td>\n",
       "      <td>13602.500000</td>\n",
       "      <td>6234.000000</td>\n",
       "      <td>778.000000</td>\n",
       "      <td>2623.500000</td>\n",
       "    </tr>\n",
       "    <tr>\n",
       "      <th>75%</th>\n",
       "      <td>6.927508e+05</td>\n",
       "      <td>2.872638e+05</td>\n",
       "      <td>17474.750000</td>\n",
       "      <td>5.716750e+04</td>\n",
       "      <td>2.535352e+05</td>\n",
       "      <td>33250.000000</td>\n",
       "      <td>30499.000000</td>\n",
       "      <td>7.972250e+04</td>\n",
       "      <td>20836.500000</td>\n",
       "      <td>7.332025e+04</td>\n",
       "      <td>...</td>\n",
       "      <td>5.250925e+05</td>\n",
       "      <td>3.220018e+05</td>\n",
       "      <td>1.862992e+05</td>\n",
       "      <td>6.844030e+05</td>\n",
       "      <td>2.540648e+05</td>\n",
       "      <td>2.105365e+05</td>\n",
       "      <td>44803.750000</td>\n",
       "      <td>22948.000000</td>\n",
       "      <td>3036.000000</td>\n",
       "      <td>8466.750000</td>\n",
       "    </tr>\n",
       "    <tr>\n",
       "      <th>max</th>\n",
       "      <td>1.008157e+07</td>\n",
       "      <td>2.641770e+06</td>\n",
       "      <td>820478.000000</td>\n",
       "      <td>1.473221e+06</td>\n",
       "      <td>4.888434e+06</td>\n",
       "      <td>52866.000000</td>\n",
       "      <td>48852.000000</td>\n",
       "      <td>1.480446e+06</td>\n",
       "      <td>553580.000000</td>\n",
       "      <td>1.296682e+06</td>\n",
       "      <td>...</td>\n",
       "      <td>8.123894e+06</td>\n",
       "      <td>5.253694e+06</td>\n",
       "      <td>2.870200e+06</td>\n",
       "      <td>1.001290e+07</td>\n",
       "      <td>4.049389e+06</td>\n",
       "      <td>3.366147e+06</td>\n",
       "      <td>769892.000000</td>\n",
       "      <td>588450.000000</td>\n",
       "      <td>60308.000000</td>\n",
       "      <td>205209.000000</td>\n",
       "    </tr>\n",
       "  </tbody>\n",
       "</table>\n",
       "<p>8 rows × 21 columns</p>\n",
       "</div>"
      ],
      "text/plain": [
       "       TotalPopulation  TotalWhiteNotHispanic     TotalBlack    TotalAsian  \\\n",
       "count     5.800000e+01           5.800000e+01      58.000000  5.800000e+01   \n",
       "mean      6.773017e+05           2.518157e+05   39208.758621  9.814522e+04   \n",
       "std       1.469524e+06           4.362806e+05  114855.088637  2.389240e+05   \n",
       "min       1.039000e+03           5.510000e+02       2.000000  0.000000e+00   \n",
       "25%       4.764675e+04           3.079650e+04     644.750000  7.717500e+02   \n",
       "50%       1.846320e+05           1.012650e+05    3975.000000  1.036400e+04   \n",
       "75%       6.927508e+05           2.872638e+05   17474.750000  5.716750e+04   \n",
       "max       1.008157e+07           2.641770e+06  820478.000000  1.473221e+06   \n",
       "\n",
       "       TotalHispanicLatino  MedianIncome  MedianIncomeForeignBorn  \\\n",
       "count         5.800000e+01     58.000000                57.000000   \n",
       "mean          2.642705e+05  30963.620690             27131.947368   \n",
       "std           6.845517e+05   7354.083205              6564.357945   \n",
       "min           1.300000e+02  18245.000000             11324.000000   \n",
       "25%           9.949750e+03  25765.500000             23380.000000   \n",
       "50%           5.075650e+04  29496.500000             26197.000000   \n",
       "75%           2.535352e+05  33250.000000             30499.000000   \n",
       "max           4.888434e+06  52866.000000             48852.000000   \n",
       "\n",
       "       TotalBelowPovertyLine  TotalForeignBornBelowPoveryLine  TotalHSDiploma  \\\n",
       "count           5.800000e+01                        58.000000    5.800000e+01   \n",
       "mean            8.878866e+04                     26633.396552    8.298707e+04   \n",
       "std             2.079402e+05                     75887.363799    1.862458e+05   \n",
       "min             2.050000e+02                         0.000000    1.730000e+02   \n",
       "25%             5.471000e+03                       548.750000    8.501250e+03   \n",
       "50%             2.934800e+04                      4254.000000    2.147500e+04   \n",
       "75%             7.972250e+04                     20836.500000    7.332025e+04   \n",
       "max             1.480446e+06                    553580.000000    1.296682e+06   \n",
       "\n",
       "       ...  TotalPop16Above  TotalPop16AboveInLaborForce  \\\n",
       "count  ...     5.800000e+01                 5.800000e+01   \n",
       "mean   ...     5.393908e+05                 3.434749e+05   \n",
       "std    ...     1.180864e+06                 7.653985e+05   \n",
       "min    ...     8.530000e+02                 3.920000e+02   \n",
       "25%    ...     4.058400e+04                 1.936000e+04   \n",
       "50%    ...     1.501525e+05                 8.436300e+04   \n",
       "75%    ...     5.250925e+05                 3.220018e+05   \n",
       "max    ...     8.123894e+06                 5.253694e+06   \n",
       "\n",
       "       TotalPop16AboveNotInLaborForce  TotalPopSurveyInsurance  \\\n",
       "count                    5.800000e+01             5.800000e+01   \n",
       "mean                     1.959159e+05             6.687472e+05   \n",
       "std                      4.162612e+05             1.457003e+06   \n",
       "min                      4.610000e+02             1.039000e+03   \n",
       "25%                      1.901325e+04             4.657675e+04   \n",
       "50%                      6.578950e+04             1.825205e+05   \n",
       "75%                      1.862992e+05             6.844030e+05   \n",
       "max                      2.870200e+06             1.001290e+07   \n",
       "\n",
       "       TotalEmployedWithInsurance  TotalEmployedWithInsurancePrivate  \\\n",
       "count                5.800000e+01                       5.800000e+01   \n",
       "mean                 2.700205e+05                       2.310899e+05   \n",
       "std                  5.940364e+05                       5.013539e+05   \n",
       "min                  2.330000e+02                       1.900000e+02   \n",
       "25%                  1.507150e+04                       1.280825e+04   \n",
       "50%                  6.652900e+04                       5.971300e+04   \n",
       "75%                  2.540648e+05                       2.105365e+05   \n",
       "max                  4.049389e+06                       3.366147e+06   \n",
       "\n",
       "       TotalEmployedWithInsurancePublic  TotalEmployedNoInsurance  \\\n",
       "count                         58.000000                 58.000000   \n",
       "mean                       45866.758621              29411.465517   \n",
       "std                       108132.041837              81429.673384   \n",
       "min                           68.000000                 38.000000   \n",
       "25%                         3084.250000               1487.000000   \n",
       "50%                        13602.500000               6234.000000   \n",
       "75%                        44803.750000              22948.000000   \n",
       "max                       769892.000000             588450.000000   \n",
       "\n",
       "       TotalUnemployedNoInsurance  TotalNotInLaborForceNoInsurance  \n",
       "count                   58.000000                        58.000000  \n",
       "mean                  3453.982759                     10981.706897  \n",
       "std                   8575.534364                     28847.141339  \n",
       "min                      8.000000                        38.000000  \n",
       "25%                    247.000000                       691.750000  \n",
       "50%                    778.000000                      2623.500000  \n",
       "75%                   3036.000000                      8466.750000  \n",
       "max                  60308.000000                    205209.000000  \n",
       "\n",
       "[8 rows x 21 columns]"
      ]
     },
     "execution_count": 6,
     "metadata": {},
     "output_type": "execute_result"
    }
   ],
   "source": [
    "df.describe()"
   ]
  },
  {
   "cell_type": "code",
   "execution_count": 7,
   "metadata": {},
   "outputs": [],
   "source": [
    "df = (df\n",
    "  >> mutate(\n",
    "      WhitePerc = _.TotalWhiteNotHispanic/_.TotalPopulation,\n",
    "      PovertyPerc = _.TotalBelowPovertyLine/_.TotalPop16Above,\n",
    "      CollegePerc = _.TotalBachelorsDegree/_.TotalPop16Above,\n",
    "      TotalUninsured = _.TotalEmployedNoInsurance + _.TotalUnemployedNoInsurance + _.TotalNotInLaborForceNoInsurance,\n",
    "      UninsuredPerc = _.TotalUninsured/_.TotalPopulation\n",
    "      )\n",
    "  )"
   ]
  },
  {
   "cell_type": "code",
   "execution_count": 8,
   "metadata": {},
   "outputs": [],
   "source": [
    "df_health = (df_health\n",
    "  >> filter(_.Year == 2019, _.Category == \"Total Population\", _.Age == \"18 and Over\")\n",
    "  >> rename(County = \"Geography\")\n",
    "  >> left_join(_, df, on = \"County\")\n",
    "  >> filter(_.TotalPopulation > 0)\n",
    "  )"
   ]
  },
  {
   "cell_type": "code",
   "execution_count": 12,
   "metadata": {},
   "outputs": [
    {
     "data": {
      "text/plain": [
       "Text(0.5, 0, 'Total Population (in scientific notation)')"
      ]
     },
     "execution_count": 12,
     "metadata": {},
     "output_type": "execute_result"
    },
    {
     "data": {
      "image/png": "[encoded data removed]",
      "text/plain": [
       "<Figure size 432x288 with 1 Axes>"
      ]
     },
     "metadata": {
      "needs_background": "light"
     },
     "output_type": "display_data"
    }
   ],
   "source": [
    "_ = df.TotalPopulation.hist()\n",
    "plt.title('Total Population by County')\n",
    "plt.ylabel('Total # of Counties') #at which the values appear\n",
    "plt.xlabel('Total Population (in scientific notation)')"
   ]
  },
  {
   "cell_type": "code",
   "execution_count": 15,
   "metadata": {},
   "outputs": [
    {
     "data": {
      "text/plain": [
       "Text(0.5, 0, 'Total Population (in scientific notation)')"
      ]
     },
     "execution_count": 15,
     "metadata": {},
     "output_type": "execute_result"
    },
    {
     "data": {
      "image/png": "[encoded data removed]",
      "text/plain": [
       "<Figure size 432x288 with 1 Axes>"
      ]
     },
     "metadata": {
      "needs_background": "light"
     },
     "output_type": "display_data"
    }
   ],
   "source": [
    "_ = df.TotalWhiteNotHispanic.hist()\n",
    "plt.title('Total White People by County')\n",
    "plt.ylabel('Total # of Counties')\n",
    "plt.xlabel('Total Population (in scientific notation)')"
   ]
  },
  {
   "cell_type": "code",
   "execution_count": null,
   "metadata": {},
   "outputs": [],
   "source": [
    "_ = df.TotalBlack.hist()"
   ]
  },
  {
   "cell_type": "code",
   "execution_count": null,
   "metadata": {},
   "outputs": [],
   "source": [
    "_ = df.TotalHispanicLatino.hist()"
   ]
  },
  {
   "cell_type": "code",
   "execution_count": null,
   "metadata": {},
   "outputs": [],
   "source": [
    "_ = df.TotalAsian.hist()"
   ]
  },
  {
   "cell_type": "code",
   "execution_count": 16,
   "metadata": {},
   "outputs": [
    {
     "data": {
      "text/plain": [
       "Text(0.5, 0, 'Median Income')"
      ]
     },
     "execution_count": 16,
     "metadata": {},
     "output_type": "execute_result"
    },
    {
     "data": {
      "image/png": "[encoded data removed]",
      "text/plain": [
       "<Figure size 432x288 with 1 Axes>"
      ]
     },
     "metadata": {
      "needs_background": "light"
     },
     "output_type": "display_data"
    }
   ],
   "source": [
    "_ = df.MedianIncome.hist()\n",
    "plt.title('Range of Median Income by County')\n",
    "plt.ylabel('Total # of Counties')\n",
    "plt.xlabel('Median Income')"
   ]
  },
  {
   "cell_type": "code",
   "execution_count": null,
   "metadata": {},
   "outputs": [],
   "source": [
    "_ = df.plot(x=\"County\", y=[\"MedianIncome\", \"MedianIncomeForeignBorn\"], kind=\"bar\", figsize = [15,8])"
   ]
  },
  {
   "cell_type": "code",
   "execution_count": null,
   "metadata": {},
   "outputs": [],
   "source": [
    "_ = df.plot(x=\"County\", y=[\"TotalWhiteNotHispanic\",\"TotalHispanicLatino\",\"TotalAsian\",\"TotalBlack\"], kind=\"bar\", figsize = [15,8])"
   ]
  },
  {
   "cell_type": "code",
   "execution_count": null,
   "metadata": {},
   "outputs": [],
   "source": [
    "_ = df.plot(x=\"WhitePerc\",y=\"MedianIncome\",kind=\"scatter\", figsize = (10,4))"
   ]
  },
  {
   "cell_type": "code",
   "execution_count": null,
   "metadata": {},
   "outputs": [],
   "source": [
    "_ = df.plot(x=\"WhitePerc\",y=\"PovertyPerc\",kind=\"scatter\", figsize = (10,4))"
   ]
  },
  {
   "cell_type": "code",
   "execution_count": null,
   "metadata": {},
   "outputs": [],
   "source": [
    "_ = df.plot(x=\"WhitePerc\",y=\"UninsuredPerc\",kind=\"scatter\", figsize = (10,4))"
   ]
  },
  {
   "cell_type": "code",
   "execution_count": null,
   "metadata": {
    "scrolled": true
   },
   "outputs": [],
   "source": [
    "_ = df.plot(x=\"MedianIncome\",y=\"UninsuredPerc\",kind=\"scatter\", figsize = (10,4))"
   ]
  },
  {
   "cell_type": "code",
   "execution_count": null,
   "metadata": {},
   "outputs": [],
   "source": [
    "_ = df_health.plot(x=\"MedianIncome\",y=\"Rate\",kind=\"scatter\", figsize = (10,4))"
   ]
  },
  {
   "cell_type": "code",
   "execution_count": null,
   "metadata": {},
   "outputs": [],
   "source": [
    "df_health"
   ]
  },
  {
   "cell_type": "code",
   "execution_count": null,
   "metadata": {},
   "outputs": [],
   "source": [
    "df_corr = (df_health\n",
    "  >> select(_.WhitePerc, _.PovertyPerc, _.CollegePerc,_.UninsuredPerc,_.MedianIncome, _.Rate, _.Count)\n",
    "  )\n",
    "\n",
    "corr = df_corr.corr()"
   ]
  },
  {
   "cell_type": "code",
   "execution_count": null,
   "metadata": {},
   "outputs": [],
   "source": [
    "ax = plt.subplots(figsize=(9, 9))\n",
    "\n",
    "ax = sns.heatmap(\n",
    "    corr,\n",
    "    vmin=-1, vmax=1, center=0,\n",
    "    cmap=sns.diverging_palette(20,200,n=200),\n",
    "    square=True,\n",
    "    linewidths=.5,\n",
    "    )\n",
    "\n",
    "ax.set_xticklabels(\n",
    "    ax.get_xticklabels(),\n",
    "    rotation=45,\n",
    "    horizontalalignment='right'\n",
    ");\n",
    "\n",
    "ax.set_yticklabels(\n",
    "    ax.get_yticklabels(),\n",
    "    rotation=45,\n",
    "    horizontalalignment='right'\n",
    ");\n",
    "\n"
   ]
  },
  {
   "cell_type": "code",
   "execution_count": null,
   "metadata": {
    "scrolled": true
   },
   "outputs": [],
   "source": [
    "df_complete"
   ]
  },
  {
   "cell_type": "code",
   "execution_count": null,
   "metadata": {},
   "outputs": [],
   "source": [
    "df_subset = (df_complete \n",
    "  >> filter(_.Year == 2017)\n",
    "  )"
   ]
  },
  {
   "cell_type": "code",
   "execution_count": null,
   "metadata": {},
   "outputs": [],
   "source": [
    "df_complete"
   ]
  },
  {
   "cell_type": "code",
   "execution_count": null,
   "metadata": {},
   "outputs": [],
   "source": [
    "_ = df_complete.plot(x=\"Wildfire_Count\",y=\"Asthma_Rate\",kind=\"scatter\", figsize = (10,4))"
   ]
  },
  {
   "cell_type": "code",
   "execution_count": null,
   "metadata": {},
   "outputs": [],
   "source": [
    "df_corr2 = (df_complete\n",
    "  >> select(_.White_Perc, _.Poverty_Perc,_.Uninsured_Perc,_.Median_Income, _.Asthma_Rate, _.Asthma_Incidents, _.Wildfire_Count, _.Duration, _.Acres_Burned, _.AQ_Mean, _.AQ_Max)\n",
    "  )\n",
    "\n",
    "corr2 = df_corr2.corr()"
   ]
  },
  {
   "cell_type": "code",
   "execution_count": null,
   "metadata": {},
   "outputs": [],
   "source": [
    "ax = plt.subplots(figsize=(9, 9))\n",
    "\n",
    "ax = sns.heatmap(\n",
    "    corr2,\n",
    "    vmin=-1, vmax=1, center=0,\n",
    "    cmap=sns.diverging_palette(20,200,n=200),\n",
    "    square=True,\n",
    "    linewidths=.5,\n",
    "    )\n",
    "\n",
    "ax.set_xticklabels(\n",
    "    ax.get_xticklabels(),\n",
    "    rotation=45,\n",
    "    horizontalalignment='right'\n",
    ");\n",
    "\n",
    "ax.set_yticklabels(\n",
    "    ax.get_yticklabels(),\n",
    "    rotation=45,\n",
    "    horizontalalignment='right'\n",
    ");\n",
    "\n"
   ]
  },
  {
   "cell_type": "code",
   "execution_count": null,
   "metadata": {},
   "outputs": [],
   "source": [
    "_ = df_complete.plot(x=\"White_Perc\",y=\"AQ_Mean\",kind=\"scatter\", figsize = (10,4))"
   ]
  },
  {
   "cell_type": "code",
   "execution_count": null,
   "metadata": {},
   "outputs": [],
   "source": [
    "_ = df_complete.plot(x=\"White_Perc\",y=\"Asthma_Incidents\",kind=\"scatter\", figsize = (10,4))"
   ]
  },
  {
   "cell_type": "code",
   "execution_count": null,
   "metadata": {},
   "outputs": [],
   "source": [
    "import statsmodels.formula.api as sm"
   ]
  },
  {
   "cell_type": "code",
   "execution_count": null,
   "metadata": {},
   "outputs": [],
   "source": [
    "formula = 'Asthma_Rate ~ White_Perc + Median_Income + AQ_Mean + Year'\n",
    "model = sm.ols(formula = formula, data = df_complete)\n",
    "fitted = model.fit()\n",
    "fitted.summary()"
   ]
  },
  {
   "cell_type": "code",
   "execution_count": null,
   "metadata": {},
   "outputs": [],
   "source": []
  }
 ],
 "metadata": {
  "kernelspec": {
   "display_name": "Python 3",
   "language": "python",
   "name": "python3"
  },
  "language_info": {
   "codemirror_mode": {
    "name": "ipython",
    "version": 3
   },
   "file_extension": ".py",
   "mimetype": "text/x-python",
   "name": "python",
   "nbconvert_exporter": "python",
   "pygments_lexer": "ipython3",
   "version": "3.8.8"
  }
 },
 "nbformat": 4,
 "nbformat_minor": 4
}
