{
 "cells": [
  {
   "cell_type": "code",
   "execution_count": null,
   "id": "e9ee830c",
   "metadata": {},
   "outputs": [],
   "source": [
    "! pip install -r requirements.txt"
   ]
  },
  {
   "cell_type": "code",
   "execution_count": 2,
   "id": "e0114f55",
   "metadata": {},
   "outputs": [],
   "source": [
    "# Loading the data\n",
    "import pandas as pd\n",
    "import numpy as np\n"
   ]
  },
  {
   "cell_type": "code",
   "execution_count": 3,
   "id": "e737106e",
   "metadata": {},
   "outputs": [],
   "source": [
    "import json\n",
    "import matplotlib.pyplot as plt\n",
    "import seaborn as sns\n",
    "import numpy as np\n",
    "import base64"
   ]
  },
  {
   "cell_type": "code",
   "execution_count": 5,
   "id": "5e12ebf1",
   "metadata": {},
   "outputs": [],
   "source": [
    "df_aoq = pd.read_csv(\"aqs_PM2.5_data_clean.csv\")"
   ]
  },
  {
   "cell_type": "code",
   "execution_count": 6,
   "id": "2503d70b",
   "metadata": {},
   "outputs": [
    {
     "data": {
      "text/html": [
       "<div>\n",
       "<style scoped>\n",
       "    .dataframe tbody tr th:only-of-type {\n",
       "        vertical-align: middle;\n",
       "    }\n",
       "\n",
       "    .dataframe tbody tr th {\n",
       "        vertical-align: top;\n",
       "    }\n",
       "\n",
       "    .dataframe thead th {\n",
       "        text-align: right;\n",
       "    }\n",
       "</style>\n",
       "<table border=\"1\" class=\"dataframe\">\n",
       "  <thead>\n",
       "    <tr style=\"text-align: right;\">\n",
       "      <th></th>\n",
       "      <th>Unnamed: 0</th>\n",
       "      <th>date_local</th>\n",
       "      <th>county</th>\n",
       "      <th>city</th>\n",
       "      <th>latitude</th>\n",
       "      <th>longitude</th>\n",
       "      <th>aqi</th>\n",
       "      <th>units_of_measure</th>\n",
       "      <th>first_max_value</th>\n",
       "      <th>first_max_hour</th>\n",
       "    </tr>\n",
       "  </thead>\n",
       "  <tbody>\n",
       "    <tr>\n",
       "      <th>0</th>\n",
       "      <td>0</td>\n",
       "      <td>2013-12-30</td>\n",
       "      <td>Humboldt</td>\n",
       "      <td>Not in a city</td>\n",
       "      <td>40.71528</td>\n",
       "      <td>-124.20139</td>\n",
       "      <td>23.0</td>\n",
       "      <td>Micrograms/cubic meter (LC)</td>\n",
       "      <td>5.5</td>\n",
       "      <td>0</td>\n",
       "    </tr>\n",
       "    <tr>\n",
       "      <th>1</th>\n",
       "      <td>1</td>\n",
       "      <td>2013-12-30</td>\n",
       "      <td>Humboldt</td>\n",
       "      <td>Not in a city</td>\n",
       "      <td>40.71528</td>\n",
       "      <td>-124.20139</td>\n",
       "      <td>23.0</td>\n",
       "      <td>Micrograms/cubic meter (LC)</td>\n",
       "      <td>5.5</td>\n",
       "      <td>0</td>\n",
       "    </tr>\n",
       "    <tr>\n",
       "      <th>2</th>\n",
       "      <td>2</td>\n",
       "      <td>2013-12-30</td>\n",
       "      <td>Humboldt</td>\n",
       "      <td>Not in a city</td>\n",
       "      <td>40.71528</td>\n",
       "      <td>-124.20139</td>\n",
       "      <td>23.0</td>\n",
       "      <td>Micrograms/cubic meter (LC)</td>\n",
       "      <td>5.5</td>\n",
       "      <td>0</td>\n",
       "    </tr>\n",
       "    <tr>\n",
       "      <th>3</th>\n",
       "      <td>3</td>\n",
       "      <td>2013-12-30</td>\n",
       "      <td>Humboldt</td>\n",
       "      <td>Not in a city</td>\n",
       "      <td>40.71528</td>\n",
       "      <td>-124.20139</td>\n",
       "      <td>23.0</td>\n",
       "      <td>Micrograms/cubic meter (LC)</td>\n",
       "      <td>5.5</td>\n",
       "      <td>0</td>\n",
       "    </tr>\n",
       "    <tr>\n",
       "      <th>4</th>\n",
       "      <td>4</td>\n",
       "      <td>2013-12-27</td>\n",
       "      <td>Humboldt</td>\n",
       "      <td>Not in a city</td>\n",
       "      <td>40.71528</td>\n",
       "      <td>-124.20139</td>\n",
       "      <td>38.0</td>\n",
       "      <td>Micrograms/cubic meter (LC)</td>\n",
       "      <td>9.1</td>\n",
       "      <td>0</td>\n",
       "    </tr>\n",
       "  </tbody>\n",
       "</table>\n",
       "</div>"
      ],
      "text/plain": [
       "   Unnamed: 0  date_local    county           city  latitude  longitude   aqi  \\\n",
       "0           0  2013-12-30  Humboldt  Not in a city  40.71528 -124.20139  23.0   \n",
       "1           1  2013-12-30  Humboldt  Not in a city  40.71528 -124.20139  23.0   \n",
       "2           2  2013-12-30  Humboldt  Not in a city  40.71528 -124.20139  23.0   \n",
       "3           3  2013-12-30  Humboldt  Not in a city  40.71528 -124.20139  23.0   \n",
       "4           4  2013-12-27  Humboldt  Not in a city  40.71528 -124.20139  38.0   \n",
       "\n",
       "              units_of_measure  first_max_value  first_max_hour  \n",
       "0  Micrograms/cubic meter (LC)              5.5               0  \n",
       "1  Micrograms/cubic meter (LC)              5.5               0  \n",
       "2  Micrograms/cubic meter (LC)              5.5               0  \n",
       "3  Micrograms/cubic meter (LC)              5.5               0  \n",
       "4  Micrograms/cubic meter (LC)              9.1               0  "
      ]
     },
     "execution_count": 6,
     "metadata": {},
     "output_type": "execute_result"
    }
   ],
   "source": [
    "df_aoq.head()"
   ]
  },
  {
   "cell_type": "code",
   "execution_count": 12,
   "id": "81d585d6",
   "metadata": {},
   "outputs": [
    {
     "data": {
      "text/plain": [
       "pandas.core.frame.DataFrame"
      ]
     },
     "execution_count": 12,
     "metadata": {},
     "output_type": "execute_result"
    }
   ],
   "source": [
    "type(df_aoq)"
   ]
  },
  {
   "cell_type": "code",
   "execution_count": 19,
   "id": "37a0c2ee",
   "metadata": {},
   "outputs": [
    {
     "data": {
      "text/plain": [
       "array(['Humboldt', 'Riverside', 'Ventura', 'San Diego', 'Sacramento',\n",
       "       'Shasta', 'Tulare', 'Santa Clara', 'Monterey', 'Placer',\n",
       "       'Los Angeles', 'San Bernardino', 'Stanislaus', 'Orange', 'Merced',\n",
       "       'Inyo', 'Fresno', 'Kings', 'Butte', 'Imperial', 'Kern', 'Nevada',\n",
       "       'Lake', 'Sutter', 'Yolo', 'Madera', 'Mendocino', 'Sonoma',\n",
       "       'Santa Barbara', 'Contra Costa', 'San Luis Obispo', 'Napa',\n",
       "       'Alameda', 'Santa Cruz', 'San Joaquin', 'Marin', 'San Francisco',\n",
       "       'San Mateo', 'Solano', 'San Benito', 'Tehama', 'Del Norte'],\n",
       "      dtype=object)"
      ]
     },
     "execution_count": 19,
     "metadata": {},
     "output_type": "execute_result"
    }
   ],
   "source": [
    "df_aoq[\"county\"].unique()"
   ]
  },
  {
   "cell_type": "code",
   "execution_count": 32,
   "id": "e98a3f40",
   "metadata": {},
   "outputs": [
    {
     "data": {
      "text/plain": [
       "Los Angeles        82227\n",
       "Fresno             69570\n",
       "Ventura            69570\n",
       "Riverside          68838\n",
       "Alameda            55672\n",
       "San Diego          47815\n",
       "San Luis Obispo    44724\n",
       "Sacramento         41248\n",
       "Santa Barbara      38818\n",
       "San Bernardino     38356\n",
       "Monterey           37560\n",
       "Santa Clara        36108\n",
       "Kern               35379\n",
       "San Joaquin        33278\n",
       "Inyo               25494\n",
       "Imperial           24218\n",
       "Contra Costa       23837\n",
       "Stanislaus         23416\n",
       "Solano             22988\n",
       "Santa Cruz         22331\n",
       "Mendocino          21566\n",
       "Orange             20541\n",
       "Kings              19906\n",
       "Placer             16159\n",
       "Merced             14829\n",
       "Madera             14685\n",
       "San Benito         11732\n",
       "San Francisco      11628\n",
       "San Mateo          11561\n",
       "Napa               11560\n",
       "Sonoma             11548\n",
       "Marin              11472\n",
       "Butte              10728\n",
       "Sutter             10720\n",
       "Nevada              8909\n",
       "Humboldt            8620\n",
       "Tehama              7240\n",
       "Tulare              3701\n",
       "Shasta              2712\n",
       "Lake                2020\n",
       "Del Norte           1888\n",
       "Yolo                1796\n",
       "Name: county, dtype: int64"
      ]
     },
     "execution_count": 32,
     "metadata": {},
     "output_type": "execute_result"
    }
   ],
   "source": [
    "df_aoq[\"county\"].value_counts()"
   ]
  },
  {
   "cell_type": "code",
   "execution_count": 48,
   "id": "5dc69c1e",
   "metadata": {},
   "outputs": [
    {
     "data": {
      "text/plain": [
       "2018-11-10    580\n",
       "2020-09-12    573\n",
       "2020-10-18    572\n",
       "2020-08-07    568\n",
       "2020-10-06    568\n",
       "             ... \n",
       "2021-05-17      4\n",
       "2021-05-26      4\n",
       "2021-05-31      4\n",
       "2021-05-12      4\n",
       "2021-05-01      4\n",
       "Name: date_local, Length: 3071, dtype: int64"
      ]
     },
     "execution_count": 48,
     "metadata": {},
     "output_type": "execute_result"
    }
   ],
   "source": [
    "df_aoq[\"date_local\"].value_counts()"
   ]
  },
  {
   "cell_type": "code",
   "execution_count": 34,
   "id": "5fd838d9",
   "metadata": {},
   "outputs": [],
   "source": [
    "df_aoq[\"date_local\"]=pd.to_datetime(df_aoq[\"date_local\"])"
   ]
  },
  {
   "cell_type": "code",
   "execution_count": 47,
   "id": "8a5478b0",
   "metadata": {},
   "outputs": [
    {
     "data": {
      "text/plain": [
       "0         2013-12-30\n",
       "1         2013-12-30\n",
       "2         2013-12-30\n",
       "3         2013-12-30\n",
       "4         2013-12-27\n",
       "             ...    \n",
       "1076963   2021-01-02\n",
       "1076964   2021-01-01\n",
       "1076965   2021-01-01\n",
       "1076966   2021-01-01\n",
       "1076967   2021-01-01\n",
       "Name: date_local, Length: 1076968, dtype: datetime64[ns]"
      ]
     },
     "execution_count": 47,
     "metadata": {},
     "output_type": "execute_result"
    }
   ],
   "source": [
    "df_aoq[\"date_local\"]=pd.to_datetime(df_aoq[\"date_local\"])\n",
    "df_aoq[\"date_local\"]"
   ]
  },
  {
   "cell_type": "code",
   "execution_count": 49,
   "id": "d69c1361",
   "metadata": {},
   "outputs": [
    {
     "data": {
      "text/plain": [
       "2018-11-10    580\n",
       "2020-09-12    573\n",
       "2020-10-18    572\n",
       "2020-08-07    568\n",
       "2020-10-06    568\n",
       "             ... \n",
       "2021-05-17      4\n",
       "2021-05-26      4\n",
       "2021-05-31      4\n",
       "2021-05-12      4\n",
       "2021-05-01      4\n",
       "Name: date_local, Length: 3071, dtype: int64"
      ]
     },
     "execution_count": 49,
     "metadata": {},
     "output_type": "execute_result"
    }
   ],
   "source": [
    "df_aoq[\"date_local\"].value_counts()"
   ]
  },
  {
   "cell_type": "code",
   "execution_count": 50,
   "id": "5d75c81a",
   "metadata": {},
   "outputs": [
    {
     "data": {
      "text/plain": [
       "0          2013\n",
       "1          2013\n",
       "2          2013\n",
       "3          2013\n",
       "4          2013\n",
       "           ... \n",
       "1076963    2021\n",
       "1076964    2021\n",
       "1076965    2021\n",
       "1076966    2021\n",
       "1076967    2021\n",
       "Name: date_local, Length: 1076968, dtype: int64"
      ]
     },
     "execution_count": 50,
     "metadata": {},
     "output_type": "execute_result"
    }
   ],
   "source": [
    "df_aoq[\"date_local\"].dt.year"
   ]
  },
  {
   "cell_type": "code",
   "execution_count": 51,
   "id": "aaca3565",
   "metadata": {},
   "outputs": [],
   "source": [
    "df_aoq[\"Year\"]=df_aoq[\"date_local\"].dt.year"
   ]
  },
  {
   "cell_type": "code",
   "execution_count": 53,
   "id": "c720e4cb",
   "metadata": {},
   "outputs": [
    {
     "data": {
      "text/plain": [
       "2020    148407\n",
       "2018    145216\n",
       "2019    144649\n",
       "2017    140540\n",
       "2016    135334\n",
       "2015    123712\n",
       "2013    111619\n",
       "2014    111486\n",
       "2021     16005\n",
       "Name: Year, dtype: int64"
      ]
     },
     "execution_count": 53,
     "metadata": {},
     "output_type": "execute_result"
    }
   ],
   "source": [
    "df_aoq.Year.value_counts()"
   ]
  },
  {
   "cell_type": "code",
   "execution_count": 67,
   "id": "c480b339",
   "metadata": {},
   "outputs": [],
   "source": [
    "aoq=df_aoq.groupby([\"Year\",\"county\"]).agg({'county':'count','aqi':['min','max','mean'],'first_max_value':['min','max','mean'],'first_max_hour':['min','max','mean']})"
   ]
  },
  {
   "cell_type": "code",
   "execution_count": 81,
   "id": "938eaf89",
   "metadata": {},
   "outputs": [
    {
     "data": {
      "text/html": [
       "<div>\n",
       "<style scoped>\n",
       "    .dataframe tbody tr th:only-of-type {\n",
       "        vertical-align: middle;\n",
       "    }\n",
       "\n",
       "    .dataframe tbody tr th {\n",
       "        vertical-align: top;\n",
       "    }\n",
       "\n",
       "    .dataframe thead tr th {\n",
       "        text-align: left;\n",
       "    }\n",
       "\n",
       "    .dataframe thead tr:last-of-type th {\n",
       "        text-align: right;\n",
       "    }\n",
       "</style>\n",
       "<table border=\"1\" class=\"dataframe\">\n",
       "  <thead>\n",
       "    <tr>\n",
       "      <th></th>\n",
       "      <th></th>\n",
       "      <th>county</th>\n",
       "      <th colspan=\"3\" halign=\"left\">aqi</th>\n",
       "      <th colspan=\"3\" halign=\"left\">first_max_value</th>\n",
       "      <th colspan=\"3\" halign=\"left\">first_max_hour</th>\n",
       "    </tr>\n",
       "    <tr>\n",
       "      <th></th>\n",
       "      <th></th>\n",
       "      <th>count</th>\n",
       "      <th>min</th>\n",
       "      <th>max</th>\n",
       "      <th>mean</th>\n",
       "      <th>min</th>\n",
       "      <th>max</th>\n",
       "      <th>mean</th>\n",
       "      <th>min</th>\n",
       "      <th>max</th>\n",
       "      <th>mean</th>\n",
       "    </tr>\n",
       "    <tr>\n",
       "      <th>Year</th>\n",
       "      <th>county</th>\n",
       "      <th></th>\n",
       "      <th></th>\n",
       "      <th></th>\n",
       "      <th></th>\n",
       "      <th></th>\n",
       "      <th></th>\n",
       "      <th></th>\n",
       "      <th></th>\n",
       "      <th></th>\n",
       "      <th></th>\n",
       "    </tr>\n",
       "  </thead>\n",
       "  <tbody>\n",
       "    <tr>\n",
       "      <th rowspan=\"5\" valign=\"top\">2013</th>\n",
       "      <th>Alameda</th>\n",
       "      <td>4177</td>\n",
       "      <td>0.0</td>\n",
       "      <td>119.0</td>\n",
       "      <td>40.067273</td>\n",
       "      <td>-0.1</td>\n",
       "      <td>42.7</td>\n",
       "      <td>10.558774</td>\n",
       "      <td>0</td>\n",
       "      <td>0</td>\n",
       "      <td>0.0</td>\n",
       "    </tr>\n",
       "    <tr>\n",
       "      <th>Butte</th>\n",
       "      <td>1292</td>\n",
       "      <td>4.0</td>\n",
       "      <td>109.0</td>\n",
       "      <td>38.229102</td>\n",
       "      <td>1.0</td>\n",
       "      <td>38.8</td>\n",
       "      <td>10.334056</td>\n",
       "      <td>0</td>\n",
       "      <td>0</td>\n",
       "      <td>0.0</td>\n",
       "    </tr>\n",
       "    <tr>\n",
       "      <th>Contra Costa</th>\n",
       "      <td>2868</td>\n",
       "      <td>4.0</td>\n",
       "      <td>115.0</td>\n",
       "      <td>38.174338</td>\n",
       "      <td>0.9</td>\n",
       "      <td>41.2</td>\n",
       "      <td>9.808089</td>\n",
       "      <td>0</td>\n",
       "      <td>0</td>\n",
       "      <td>0.0</td>\n",
       "    </tr>\n",
       "    <tr>\n",
       "      <th>Fresno</th>\n",
       "      <td>6409</td>\n",
       "      <td>2.0</td>\n",
       "      <td>176.0</td>\n",
       "      <td>51.877204</td>\n",
       "      <td>0.4</td>\n",
       "      <td>103.4</td>\n",
       "      <td>15.504931</td>\n",
       "      <td>0</td>\n",
       "      <td>0</td>\n",
       "      <td>0.0</td>\n",
       "    </tr>\n",
       "    <tr>\n",
       "      <th>Humboldt</th>\n",
       "      <td>1756</td>\n",
       "      <td>1.0</td>\n",
       "      <td>85.0</td>\n",
       "      <td>29.505695</td>\n",
       "      <td>0.3</td>\n",
       "      <td>28.1</td>\n",
       "      <td>7.311845</td>\n",
       "      <td>0</td>\n",
       "      <td>0</td>\n",
       "      <td>0.0</td>\n",
       "    </tr>\n",
       "    <tr>\n",
       "      <th>...</th>\n",
       "      <th>...</th>\n",
       "      <td>...</td>\n",
       "      <td>...</td>\n",
       "      <td>...</td>\n",
       "      <td>...</td>\n",
       "      <td>...</td>\n",
       "      <td>...</td>\n",
       "      <td>...</td>\n",
       "      <td>...</td>\n",
       "      <td>...</td>\n",
       "      <td>...</td>\n",
       "    </tr>\n",
       "    <tr>\n",
       "      <th rowspan=\"5\" valign=\"top\">2021</th>\n",
       "      <th>Santa Cruz</th>\n",
       "      <td>712</td>\n",
       "      <td>0.0</td>\n",
       "      <td>73.0</td>\n",
       "      <td>22.544944</td>\n",
       "      <td>0.0</td>\n",
       "      <td>22.4</td>\n",
       "      <td>5.471348</td>\n",
       "      <td>0</td>\n",
       "      <td>0</td>\n",
       "      <td>0.0</td>\n",
       "    </tr>\n",
       "    <tr>\n",
       "      <th>Solano</th>\n",
       "      <td>472</td>\n",
       "      <td>11.0</td>\n",
       "      <td>84.0</td>\n",
       "      <td>39.694915</td>\n",
       "      <td>2.7</td>\n",
       "      <td>27.7</td>\n",
       "      <td>10.187288</td>\n",
       "      <td>0</td>\n",
       "      <td>0</td>\n",
       "      <td>0.0</td>\n",
       "    </tr>\n",
       "    <tr>\n",
       "      <th>Sonoma</th>\n",
       "      <td>236</td>\n",
       "      <td>11.0</td>\n",
       "      <td>67.0</td>\n",
       "      <td>29.050847</td>\n",
       "      <td>2.6</td>\n",
       "      <td>19.7</td>\n",
       "      <td>7.032203</td>\n",
       "      <td>0</td>\n",
       "      <td>0</td>\n",
       "      <td>0.0</td>\n",
       "    </tr>\n",
       "    <tr>\n",
       "      <th>Tehama</th>\n",
       "      <td>308</td>\n",
       "      <td>5.0</td>\n",
       "      <td>74.0</td>\n",
       "      <td>25.077922</td>\n",
       "      <td>1.3</td>\n",
       "      <td>23.2</td>\n",
       "      <td>6.257143</td>\n",
       "      <td>0</td>\n",
       "      <td>0</td>\n",
       "      <td>0.0</td>\n",
       "    </tr>\n",
       "    <tr>\n",
       "      <th>Ventura</th>\n",
       "      <td>2752</td>\n",
       "      <td>0.0</td>\n",
       "      <td>67.0</td>\n",
       "      <td>24.302326</td>\n",
       "      <td>-1.0</td>\n",
       "      <td>19.5</td>\n",
       "      <td>5.872529</td>\n",
       "      <td>0</td>\n",
       "      <td>0</td>\n",
       "      <td>0.0</td>\n",
       "    </tr>\n",
       "  </tbody>\n",
       "</table>\n",
       "<p>355 rows × 10 columns</p>\n",
       "</div>"
      ],
      "text/plain": [
       "                  county   aqi                   first_max_value         \\\n",
       "                   count   min    max       mean             min    max   \n",
       "Year county                                                               \n",
       "2013 Alameda        4177   0.0  119.0  40.067273            -0.1   42.7   \n",
       "     Butte          1292   4.0  109.0  38.229102             1.0   38.8   \n",
       "     Contra Costa   2868   4.0  115.0  38.174338             0.9   41.2   \n",
       "     Fresno         6409   2.0  176.0  51.877204             0.4  103.4   \n",
       "     Humboldt       1756   1.0   85.0  29.505695             0.3   28.1   \n",
       "...                  ...   ...    ...        ...             ...    ...   \n",
       "2021 Santa Cruz      712   0.0   73.0  22.544944             0.0   22.4   \n",
       "     Solano          472  11.0   84.0  39.694915             2.7   27.7   \n",
       "     Sonoma          236  11.0   67.0  29.050847             2.6   19.7   \n",
       "     Tehama          308   5.0   74.0  25.077922             1.3   23.2   \n",
       "     Ventura        2752   0.0   67.0  24.302326            -1.0   19.5   \n",
       "\n",
       "                             first_max_hour           \n",
       "                        mean            min max mean  \n",
       "Year county                                           \n",
       "2013 Alameda       10.558774              0   0  0.0  \n",
       "     Butte         10.334056              0   0  0.0  \n",
       "     Contra Costa   9.808089              0   0  0.0  \n",
       "     Fresno        15.504931              0   0  0.0  \n",
       "     Humboldt       7.311845              0   0  0.0  \n",
       "...                      ...            ...  ..  ...  \n",
       "2021 Santa Cruz     5.471348              0   0  0.0  \n",
       "     Solano        10.187288              0   0  0.0  \n",
       "     Sonoma         7.032203              0   0  0.0  \n",
       "     Tehama         6.257143              0   0  0.0  \n",
       "     Ventura        5.872529              0   0  0.0  \n",
       "\n",
       "[355 rows x 10 columns]"
      ]
     },
     "execution_count": 81,
     "metadata": {},
     "output_type": "execute_result"
    }
   ],
   "source": [
    "aoq"
   ]
  },
  {
   "cell_type": "code",
   "execution_count": 94,
   "id": "a5e15246",
   "metadata": {},
   "outputs": [
    {
     "data": {
      "text/plain": [
       "pandas.core.frame.DataFrame"
      ]
     },
     "execution_count": 94,
     "metadata": {},
     "output_type": "execute_result"
    }
   ],
   "source": [
    "type(aoq)"
   ]
  },
  {
   "cell_type": "code",
   "execution_count": 95,
   "id": "2a7daa5e",
   "metadata": {},
   "outputs": [],
   "source": [
    "aoq.to_csv(\"aoq_agg_data.csv\", encoding=\"utf-8\", index=False)"
   ]
  },
  {
   "cell_type": "code",
   "execution_count": null,
   "id": "c61b0bea",
   "metadata": {},
   "outputs": [],
   "source": []
  }
 ],
 "metadata": {
  "kernelspec": {
   "display_name": "Python 3",
   "language": "python",
   "name": "python3"
  },
  "language_info": {
   "codemirror_mode": {
    "name": "ipython",
    "version": 3
   },
   "file_extension": ".py",
   "mimetype": "text/x-python",
   "name": "python",
   "nbconvert_exporter": "python",
   "pygments_lexer": "ipython3",
   "version": "3.8.8"
  }
 },
 "nbformat": 4,
 "nbformat_minor": 5
}
