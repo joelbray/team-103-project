{
 "cells": [
  {
   "cell_type": "code",
   "execution_count": 1,
   "metadata": {},
   "outputs": [
    {
     "name": "stdout",
     "output_type": "stream",
     "text": [
      "Requirement already satisfied: numpy in /Library/Frameworks/Python.framework/Versions/3.8/lib/python3.8/site-packages (from -r requirements.txt (line 1)) (1.19.5)\n",
      "Requirement already satisfied: pandas in /Library/Frameworks/Python.framework/Versions/3.8/lib/python3.8/site-packages (from -r requirements.txt (line 2)) (1.2.0)\n",
      "Requirement already satisfied: seaborn in /Library/Frameworks/Python.framework/Versions/3.8/lib/python3.8/site-packages (from -r requirements.txt (line 3)) (0.11.1)\n",
      "Requirement already satisfied: matplotlib in /Library/Frameworks/Python.framework/Versions/3.8/lib/python3.8/site-packages (from -r requirements.txt (line 4)) (3.3.3)\n",
      "Requirement already satisfied: siuba in /Library/Frameworks/Python.framework/Versions/3.8/lib/python3.8/site-packages (from -r requirements.txt (line 5)) (0.0.24)\n",
      "Requirement already satisfied: CensusData in /Library/Frameworks/Python.framework/Versions/3.8/lib/python3.8/site-packages (from -r requirements.txt (line 6)) (1.13)\n",
      "Requirement already satisfied: scipy in /Library/Frameworks/Python.framework/Versions/3.8/lib/python3.8/site-packages (from -r requirements.txt (line 7)) (1.6.3)\n",
      "Requirement already satisfied: requests in /Library/Frameworks/Python.framework/Versions/3.8/lib/python3.8/site-packages (from CensusData->-r requirements.txt (line 6)) (2.25.1)\n",
      "Requirement already satisfied: kiwisolver>=1.0.1 in /Library/Frameworks/Python.framework/Versions/3.8/lib/python3.8/site-packages (from matplotlib->-r requirements.txt (line 4)) (1.3.1)\n",
      "Requirement already satisfied: pyparsing!=2.0.4,!=2.1.2,!=2.1.6,>=2.0.3 in /Library/Frameworks/Python.framework/Versions/3.8/lib/python3.8/site-packages (from matplotlib->-r requirements.txt (line 4)) (2.4.7)\n",
      "Requirement already satisfied: python-dateutil>=2.1 in /Library/Frameworks/Python.framework/Versions/3.8/lib/python3.8/site-packages (from matplotlib->-r requirements.txt (line 4)) (2.8.1)\n",
      "Requirement already satisfied: cycler>=0.10 in /Library/Frameworks/Python.framework/Versions/3.8/lib/python3.8/site-packages (from matplotlib->-r requirements.txt (line 4)) (0.10.0)\n",
      "Requirement already satisfied: pillow>=6.2.0 in /Library/Frameworks/Python.framework/Versions/3.8/lib/python3.8/site-packages (from matplotlib->-r requirements.txt (line 4)) (8.1.0)\n",
      "Requirement already satisfied: six in /Library/Frameworks/Python.framework/Versions/3.8/lib/python3.8/site-packages (from cycler>=0.10->matplotlib->-r requirements.txt (line 4)) (1.15.0)\n",
      "Requirement already satisfied: pytz>=2017.3 in /Library/Frameworks/Python.framework/Versions/3.8/lib/python3.8/site-packages (from pandas->-r requirements.txt (line 2)) (2020.5)\n",
      "Requirement already satisfied: PyYAML>=3.0.0 in /Library/Frameworks/Python.framework/Versions/3.8/lib/python3.8/site-packages (from siuba->-r requirements.txt (line 5)) (5.4.1)\n",
      "Requirement already satisfied: SQLAlchemy>=1.1.18 in /Library/Frameworks/Python.framework/Versions/3.8/lib/python3.8/site-packages (from siuba->-r requirements.txt (line 5)) (1.4.17)\n",
      "Requirement already satisfied: greenlet!=0.4.17 in /Library/Frameworks/Python.framework/Versions/3.8/lib/python3.8/site-packages (from SQLAlchemy>=1.1.18->siuba->-r requirements.txt (line 5)) (1.1.0)\n",
      "Requirement already satisfied: certifi>=2017.4.17 in /Library/Frameworks/Python.framework/Versions/3.8/lib/python3.8/site-packages (from requests->CensusData->-r requirements.txt (line 6)) (2020.12.5)\n",
      "Requirement already satisfied: chardet<5,>=3.0.2 in /Library/Frameworks/Python.framework/Versions/3.8/lib/python3.8/site-packages (from requests->CensusData->-r requirements.txt (line 6)) (4.0.0)\n",
      "Requirement already satisfied: idna<3,>=2.5 in /Library/Frameworks/Python.framework/Versions/3.8/lib/python3.8/site-packages (from requests->CensusData->-r requirements.txt (line 6)) (2.10)\n",
      "Requirement already satisfied: urllib3<1.27,>=1.21.1 in /Library/Frameworks/Python.framework/Versions/3.8/lib/python3.8/site-packages (from requests->CensusData->-r requirements.txt (line 6)) (1.26.2)\n",
      "\u001b[33mWARNING: You are using pip version 20.3.3; however, version 21.1.2 is available.\n",
      "You should consider upgrading via the '/Library/Frameworks/Python.framework/Versions/3.8/bin/python3.8 -m pip install --upgrade pip' command.\u001b[0m\n"
     ]
    }
   ],
   "source": [
    "! pip install -r requirements.txt"
   ]
  },
  {
   "cell_type": "code",
   "execution_count": 1,
   "metadata": {},
   "outputs": [],
   "source": [
    "# Loading the data\n",
    "import pandas as pd\n",
    "import numpy as np\n"
   ]
  },
  {
   "cell_type": "code",
   "execution_count": 15,
   "metadata": {},
   "outputs": [],
   "source": [
    "import json\n",
    "import matplotlib.pyplot as plt\n",
    "import seaborn as sns\n",
    "import numpy as np\n",
    "import base64\n",
    "from datetime import datetime"
   ]
  },
  {
   "cell_type": "code",
   "execution_count": 58,
   "metadata": {},
   "outputs": [],
   "source": [
    "with open(\"aqs/aqs_PM2.5_data_clean.json\") as f:\n",
    "    data=json.load(f)"
   ]
  },
  {
   "cell_type": "code",
   "execution_count": 59,
   "metadata": {},
   "outputs": [],
   "source": [
    "df_aoq = pd.read_json(\"aqs/aqs_PM2.5_data_clean.json\")"
   ]
  },
  {
   "cell_type": "code",
   "execution_count": 60,
   "metadata": {},
   "outputs": [
    {
     "data": {
      "text/html": [
       "<div>\n",
       "<style scoped>\n",
       "    .dataframe tbody tr th:only-of-type {\n",
       "        vertical-align: middle;\n",
       "    }\n",
       "\n",
       "    .dataframe tbody tr th {\n",
       "        vertical-align: top;\n",
       "    }\n",
       "\n",
       "    .dataframe thead th {\n",
       "        text-align: right;\n",
       "    }\n",
       "</style>\n",
       "<table border=\"1\" class=\"dataframe\">\n",
       "  <thead>\n",
       "    <tr style=\"text-align: right;\">\n",
       "      <th></th>\n",
       "      <th>date_local</th>\n",
       "      <th>county</th>\n",
       "      <th>city</th>\n",
       "      <th>latitude</th>\n",
       "      <th>longitude</th>\n",
       "      <th>aqi</th>\n",
       "      <th>units_of_measure</th>\n",
       "      <th>first_max_value</th>\n",
       "      <th>first_max_hour</th>\n",
       "    </tr>\n",
       "  </thead>\n",
       "  <tbody>\n",
       "    <tr>\n",
       "      <th>0</th>\n",
       "      <td>2011-12-31T00:00:00.000Z</td>\n",
       "      <td>San Luis Obispo</td>\n",
       "      <td>Arroyo Grande</td>\n",
       "      <td>35.04673</td>\n",
       "      <td>-120.58777</td>\n",
       "      <td>55</td>\n",
       "      <td>Micrograms/cubic meter (LC)</td>\n",
       "      <td>13.8</td>\n",
       "      <td>0</td>\n",
       "    </tr>\n",
       "    <tr>\n",
       "      <th>1</th>\n",
       "      <td>2011-12-31T00:00:00.000Z</td>\n",
       "      <td>San Luis Obispo</td>\n",
       "      <td>Arroyo Grande</td>\n",
       "      <td>35.04673</td>\n",
       "      <td>-120.58777</td>\n",
       "      <td>55</td>\n",
       "      <td>Micrograms/cubic meter (LC)</td>\n",
       "      <td>13.8</td>\n",
       "      <td>0</td>\n",
       "    </tr>\n",
       "    <tr>\n",
       "      <th>2</th>\n",
       "      <td>2011-12-31T00:00:00.000Z</td>\n",
       "      <td>San Luis Obispo</td>\n",
       "      <td>Arroyo Grande</td>\n",
       "      <td>35.04673</td>\n",
       "      <td>-120.58777</td>\n",
       "      <td>55</td>\n",
       "      <td>Micrograms/cubic meter (LC)</td>\n",
       "      <td>13.8</td>\n",
       "      <td>0</td>\n",
       "    </tr>\n",
       "    <tr>\n",
       "      <th>3</th>\n",
       "      <td>2011-12-31T00:00:00.000Z</td>\n",
       "      <td>San Luis Obispo</td>\n",
       "      <td>Arroyo Grande</td>\n",
       "      <td>35.04673</td>\n",
       "      <td>-120.58777</td>\n",
       "      <td>55</td>\n",
       "      <td>Micrograms/cubic meter (LC)</td>\n",
       "      <td>13.8</td>\n",
       "      <td>0</td>\n",
       "    </tr>\n",
       "    <tr>\n",
       "      <th>4</th>\n",
       "      <td>2011-12-30T00:00:00.000Z</td>\n",
       "      <td>San Luis Obispo</td>\n",
       "      <td>Arroyo Grande</td>\n",
       "      <td>35.04673</td>\n",
       "      <td>-120.58777</td>\n",
       "      <td>48</td>\n",
       "      <td>Micrograms/cubic meter (LC)</td>\n",
       "      <td>11.5</td>\n",
       "      <td>0</td>\n",
       "    </tr>\n",
       "  </tbody>\n",
       "</table>\n",
       "</div>"
      ],
      "text/plain": [
       "                 date_local           county           city  latitude  \\\n",
       "0  2011-12-31T00:00:00.000Z  San Luis Obispo  Arroyo Grande  35.04673   \n",
       "1  2011-12-31T00:00:00.000Z  San Luis Obispo  Arroyo Grande  35.04673   \n",
       "2  2011-12-31T00:00:00.000Z  San Luis Obispo  Arroyo Grande  35.04673   \n",
       "3  2011-12-31T00:00:00.000Z  San Luis Obispo  Arroyo Grande  35.04673   \n",
       "4  2011-12-30T00:00:00.000Z  San Luis Obispo  Arroyo Grande  35.04673   \n",
       "\n",
       "   longitude  aqi             units_of_measure  first_max_value  \\\n",
       "0 -120.58777   55  Micrograms/cubic meter (LC)             13.8   \n",
       "1 -120.58777   55  Micrograms/cubic meter (LC)             13.8   \n",
       "2 -120.58777   55  Micrograms/cubic meter (LC)             13.8   \n",
       "3 -120.58777   55  Micrograms/cubic meter (LC)             13.8   \n",
       "4 -120.58777   48  Micrograms/cubic meter (LC)             11.5   \n",
       "\n",
       "   first_max_hour  \n",
       "0               0  \n",
       "1               0  \n",
       "2               0  \n",
       "3               0  \n",
       "4               0  "
      ]
     },
     "execution_count": 60,
     "metadata": {},
     "output_type": "execute_result"
    }
   ],
   "source": [
    "df_aoq.head()"
   ]
  },
  {
   "cell_type": "code",
   "execution_count": 61,
   "metadata": {},
   "outputs": [
    {
     "data": {
      "text/plain": [
       "pandas.core.frame.DataFrame"
      ]
     },
     "execution_count": 61,
     "metadata": {},
     "output_type": "execute_result"
    }
   ],
   "source": [
    "type(df_aoq)"
   ]
  },
  {
   "cell_type": "code",
   "execution_count": 62,
   "metadata": {},
   "outputs": [
    {
     "data": {
      "text/plain": [
       "array(['San Luis Obispo', 'Los Angeles', 'Riverside', 'San Bernardino',\n",
       "       'San Diego', 'Contra Costa', 'Imperial', 'Nevada', 'San Benito',\n",
       "       'Solano', 'Yolo', 'Sutter', 'Lake', 'San Joaquin', 'Kern',\n",
       "       'Alameda', 'San Mateo', 'San Francisco', 'Marin', 'Santa Barbara',\n",
       "       'Ventura', 'Stanislaus', 'Orange', 'Fresno', 'Kings', 'Humboldt',\n",
       "       'Santa Clara', 'Inyo', 'Santa Cruz', 'Madera', 'Merced', 'Shasta',\n",
       "       'Placer', 'Sacramento', 'Monterey', 'Sonoma', 'Mendocino',\n",
       "       'Tulare', 'Butte', 'Napa', 'Del Norte', 'Tehama'], dtype=object)"
      ]
     },
     "execution_count": 62,
     "metadata": {},
     "output_type": "execute_result"
    }
   ],
   "source": [
    "df_aoq[\"county\"].unique()"
   ]
  },
  {
   "cell_type": "code",
   "execution_count": 63,
   "metadata": {},
   "outputs": [
    {
     "data": {
      "text/plain": [
       "Los Angeles        101075\n",
       "Riverside           84586\n",
       "Fresno              81124\n",
       "Ventura             77667\n",
       "Alameda             61748\n",
       "San Diego           60580\n",
       "San Luis Obispo     55797\n",
       "Sacramento          45028\n",
       "Santa Barbara       44874\n",
       "Monterey            43676\n",
       "San Bernardino      43172\n",
       "Kern                42351\n",
       "San Joaquin         41970\n",
       "Santa Clara         40936\n",
       "Stanislaus          29573\n",
       "Inyo                29406\n",
       "Imperial            27398\n",
       "Mendocino           26954\n",
       "Contra Costa        26213\n",
       "Solano              26040\n",
       "Santa Cruz          25147\n",
       "Orange              25101\n",
       "Kings               23339\n",
       "Madera              19013\n",
       "Merced              18359\n",
       "Placer              18347\n",
       "San Mateo           14750\n",
       "San Benito          14544\n",
       "San Francisco       14436\n",
       "Sonoma              14332\n",
       "Marin               14188\n",
       "Sutter              13536\n",
       "Humboldt            12136\n",
       "Napa                11636\n",
       "Butte               11432\n",
       "Nevada               9909\n",
       "Tehama               7240\n",
       "Tulare               4617\n",
       "Shasta               4036\n",
       "Lake                 2504\n",
       "Yolo                 2280\n",
       "Del Norte            1888\n",
       "Name: county, dtype: int64"
      ]
     },
     "execution_count": 63,
     "metadata": {},
     "output_type": "execute_result"
    }
   ],
   "source": [
    "df_aoq[\"county\"].value_counts()"
   ]
  },
  {
   "cell_type": "code",
   "execution_count": 64,
   "metadata": {},
   "outputs": [
    {
     "data": {
      "text/plain": [
       "2018-11-10T00:00:00.000Z    580\n",
       "2020-09-12T00:00:00.000Z    573\n",
       "2020-10-18T00:00:00.000Z    572\n",
       "2020-10-06T00:00:00.000Z    568\n",
       "2020-08-07T00:00:00.000Z    568\n",
       "                           ... \n",
       "2021-05-25T00:00:00.000Z     20\n",
       "2021-05-20T00:00:00.000Z     20\n",
       "2021-05-17T00:00:00.000Z     16\n",
       "2021-05-28T00:00:00.000Z     16\n",
       "2021-05-27T00:00:00.000Z     16\n",
       "Name: date_local, Length: 3804, dtype: int64"
      ]
     },
     "execution_count": 64,
     "metadata": {},
     "output_type": "execute_result"
    }
   ],
   "source": [
    "df_aoq[\"date_local\"].value_counts()"
   ]
  },
  {
   "cell_type": "code",
   "execution_count": 65,
   "metadata": {},
   "outputs": [],
   "source": [
    "df_aoq[\"date_local\"]=pd.to_datetime(df_aoq[\"date_local\"])"
   ]
  },
  {
   "cell_type": "code",
   "execution_count": 66,
   "metadata": {},
   "outputs": [
    {
     "data": {
      "text/plain": [
       "0         2011-12-31 00:00:00+00:00\n",
       "1         2011-12-31 00:00:00+00:00\n",
       "2         2011-12-31 00:00:00+00:00\n",
       "3         2011-12-31 00:00:00+00:00\n",
       "4         2011-12-30 00:00:00+00:00\n",
       "                     ...           \n",
       "1272933   2021-01-02 00:00:00+00:00\n",
       "1272934   2021-01-01 00:00:00+00:00\n",
       "1272935   2021-01-01 00:00:00+00:00\n",
       "1272936   2021-01-01 00:00:00+00:00\n",
       "1272937   2021-01-01 00:00:00+00:00\n",
       "Name: date_local, Length: 1272938, dtype: datetime64[ns, UTC]"
      ]
     },
     "execution_count": 66,
     "metadata": {},
     "output_type": "execute_result"
    }
   ],
   "source": [
    "df_aoq[\"date_local\"]=pd.to_datetime(df_aoq[\"date_local\"])\n",
    "df_aoq[\"date_local\"]"
   ]
  },
  {
   "cell_type": "code",
   "execution_count": 67,
   "metadata": {},
   "outputs": [
    {
     "data": {
      "text/plain": [
       "2018-11-10 00:00:00+00:00    580\n",
       "2020-09-12 00:00:00+00:00    573\n",
       "2020-10-18 00:00:00+00:00    572\n",
       "2020-08-07 00:00:00+00:00    568\n",
       "2020-10-06 00:00:00+00:00    568\n",
       "                            ... \n",
       "2021-05-24 00:00:00+00:00     20\n",
       "2021-05-11 00:00:00+00:00     20\n",
       "2021-05-17 00:00:00+00:00     16\n",
       "2021-05-27 00:00:00+00:00     16\n",
       "2021-05-28 00:00:00+00:00     16\n",
       "Name: date_local, Length: 3804, dtype: int64"
      ]
     },
     "execution_count": 67,
     "metadata": {},
     "output_type": "execute_result"
    }
   ],
   "source": [
    "df_aoq[\"date_local\"].value_counts()"
   ]
  },
  {
   "cell_type": "code",
   "execution_count": 68,
   "metadata": {},
   "outputs": [
    {
     "data": {
      "text/plain": [
       "0          2011\n",
       "1          2011\n",
       "2          2011\n",
       "3          2011\n",
       "4          2011\n",
       "           ... \n",
       "1272933    2021\n",
       "1272934    2021\n",
       "1272935    2021\n",
       "1272936    2021\n",
       "1272937    2021\n",
       "Name: date_local, Length: 1272938, dtype: int64"
      ]
     },
     "execution_count": 68,
     "metadata": {},
     "output_type": "execute_result"
    }
   ],
   "source": [
    "df_aoq[\"date_local\"].dt.year"
   ]
  },
  {
   "cell_type": "code",
   "execution_count": 69,
   "metadata": {},
   "outputs": [],
   "source": [
    "df_aoq[\"Year\"]=df_aoq[\"date_local\"].dt.year"
   ]
  },
  {
   "cell_type": "code",
   "execution_count": 70,
   "metadata": {},
   "outputs": [
    {
     "data": {
      "text/plain": [
       "2020    148455\n",
       "2018    145216\n",
       "2019    144649\n",
       "2017    140540\n",
       "2016    135334\n",
       "2015    123712\n",
       "2013    111619\n",
       "2014    111486\n",
       "2012    101440\n",
       "2011     85466\n",
       "2021     25021\n",
       "Name: Year, dtype: int64"
      ]
     },
     "execution_count": 70,
     "metadata": {},
     "output_type": "execute_result"
    }
   ],
   "source": [
    "df_aoq.Year.value_counts()"
   ]
  },
  {
   "cell_type": "code",
   "execution_count": 71,
   "metadata": {},
   "outputs": [],
   "source": [
    "aoq=df_aoq[['Year','county','aqi']].groupby([\"Year\",\"county\"]).agg(['count','min','max','mean','median']).reset_index()"
   ]
  },
  {
   "cell_type": "code",
   "execution_count": 72,
   "metadata": {},
   "outputs": [],
   "source": [
    "aoq.columns = ['_'.join(col) for col in aoq.columns]"
   ]
  },
  {
   "cell_type": "code",
   "execution_count": 73,
   "metadata": {},
   "outputs": [
    {
     "data": {
      "text/html": [
       "<div>\n",
       "<style scoped>\n",
       "    .dataframe tbody tr th:only-of-type {\n",
       "        vertical-align: middle;\n",
       "    }\n",
       "\n",
       "    .dataframe tbody tr th {\n",
       "        vertical-align: top;\n",
       "    }\n",
       "\n",
       "    .dataframe thead th {\n",
       "        text-align: right;\n",
       "    }\n",
       "</style>\n",
       "<table border=\"1\" class=\"dataframe\">\n",
       "  <thead>\n",
       "    <tr style=\"text-align: right;\">\n",
       "      <th></th>\n",
       "      <th>Year_</th>\n",
       "      <th>county_</th>\n",
       "      <th>aqi_count</th>\n",
       "      <th>aqi_min</th>\n",
       "      <th>aqi_max</th>\n",
       "      <th>aqi_mean</th>\n",
       "      <th>aqi_median</th>\n",
       "    </tr>\n",
       "  </thead>\n",
       "  <tbody>\n",
       "    <tr>\n",
       "      <th>0</th>\n",
       "      <td>2011</td>\n",
       "      <td>Alameda</td>\n",
       "      <td>3132</td>\n",
       "      <td>1</td>\n",
       "      <td>135</td>\n",
       "      <td>36.061303</td>\n",
       "      <td>33.0</td>\n",
       "    </tr>\n",
       "    <tr>\n",
       "      <th>1</th>\n",
       "      <td>2011</td>\n",
       "      <td>Butte</td>\n",
       "      <td>244</td>\n",
       "      <td>4</td>\n",
       "      <td>141</td>\n",
       "      <td>41.196721</td>\n",
       "      <td>29.0</td>\n",
       "    </tr>\n",
       "    <tr>\n",
       "      <th>2</th>\n",
       "      <td>2011</td>\n",
       "      <td>Contra Costa</td>\n",
       "      <td>1116</td>\n",
       "      <td>4</td>\n",
       "      <td>131</td>\n",
       "      <td>32.440860</td>\n",
       "      <td>25.0</td>\n",
       "    </tr>\n",
       "    <tr>\n",
       "      <th>3</th>\n",
       "      <td>2011</td>\n",
       "      <td>Fresno</td>\n",
       "      <td>5109</td>\n",
       "      <td>2</td>\n",
       "      <td>163</td>\n",
       "      <td>50.888432</td>\n",
       "      <td>41.0</td>\n",
       "    </tr>\n",
       "    <tr>\n",
       "      <th>4</th>\n",
       "      <td>2011</td>\n",
       "      <td>Humboldt</td>\n",
       "      <td>1336</td>\n",
       "      <td>0</td>\n",
       "      <td>78</td>\n",
       "      <td>31.517964</td>\n",
       "      <td>28.0</td>\n",
       "    </tr>\n",
       "    <tr>\n",
       "      <th>...</th>\n",
       "      <td>...</td>\n",
       "      <td>...</td>\n",
       "      <td>...</td>\n",
       "      <td>...</td>\n",
       "      <td>...</td>\n",
       "      <td>...</td>\n",
       "      <td>...</td>\n",
       "    </tr>\n",
       "    <tr>\n",
       "      <th>436</th>\n",
       "      <td>2021</td>\n",
       "      <td>Sonoma</td>\n",
       "      <td>236</td>\n",
       "      <td>11</td>\n",
       "      <td>67</td>\n",
       "      <td>29.050847</td>\n",
       "      <td>27.0</td>\n",
       "    </tr>\n",
       "    <tr>\n",
       "      <th>437</th>\n",
       "      <td>2021</td>\n",
       "      <td>Stanislaus</td>\n",
       "      <td>124</td>\n",
       "      <td>24</td>\n",
       "      <td>120</td>\n",
       "      <td>66.838710</td>\n",
       "      <td>63.0</td>\n",
       "    </tr>\n",
       "    <tr>\n",
       "      <th>438</th>\n",
       "      <td>2021</td>\n",
       "      <td>Sutter</td>\n",
       "      <td>124</td>\n",
       "      <td>8</td>\n",
       "      <td>78</td>\n",
       "      <td>41.032258</td>\n",
       "      <td>43.0</td>\n",
       "    </tr>\n",
       "    <tr>\n",
       "      <th>439</th>\n",
       "      <td>2021</td>\n",
       "      <td>Tehama</td>\n",
       "      <td>308</td>\n",
       "      <td>5</td>\n",
       "      <td>74</td>\n",
       "      <td>25.077922</td>\n",
       "      <td>19.0</td>\n",
       "    </tr>\n",
       "    <tr>\n",
       "      <th>440</th>\n",
       "      <td>2021</td>\n",
       "      <td>Ventura</td>\n",
       "      <td>2752</td>\n",
       "      <td>0</td>\n",
       "      <td>67</td>\n",
       "      <td>24.302326</td>\n",
       "      <td>21.0</td>\n",
       "    </tr>\n",
       "  </tbody>\n",
       "</table>\n",
       "<p>441 rows × 7 columns</p>\n",
       "</div>"
      ],
      "text/plain": [
       "     Year_       county_  aqi_count  aqi_min  aqi_max   aqi_mean  aqi_median\n",
       "0     2011       Alameda       3132        1      135  36.061303        33.0\n",
       "1     2011         Butte        244        4      141  41.196721        29.0\n",
       "2     2011  Contra Costa       1116        4      131  32.440860        25.0\n",
       "3     2011        Fresno       5109        2      163  50.888432        41.0\n",
       "4     2011      Humboldt       1336        0       78  31.517964        28.0\n",
       "..     ...           ...        ...      ...      ...        ...         ...\n",
       "436   2021        Sonoma        236       11       67  29.050847        27.0\n",
       "437   2021    Stanislaus        124       24      120  66.838710        63.0\n",
       "438   2021        Sutter        124        8       78  41.032258        43.0\n",
       "439   2021        Tehama        308        5       74  25.077922        19.0\n",
       "440   2021       Ventura       2752        0       67  24.302326        21.0\n",
       "\n",
       "[441 rows x 7 columns]"
      ]
     },
     "execution_count": 73,
     "metadata": {},
     "output_type": "execute_result"
    }
   ],
   "source": [
    "aoq"
   ]
  },
  {
   "cell_type": "code",
   "execution_count": 104,
   "metadata": {},
   "outputs": [
    {
     "data": {
      "text/plain": [
       "pandas.core.frame.DataFrame"
      ]
     },
     "execution_count": 104,
     "metadata": {},
     "output_type": "execute_result"
    }
   ],
   "source": [
    "type(aoq)"
   ]
  },
  {
   "cell_type": "code",
   "execution_count": 75,
   "metadata": {},
   "outputs": [],
   "source": [
    "aoq.to_csv(\"aoq_agg_data.csv\", encoding=\"utf-8\", index=False)"
   ]
  },
  {
   "cell_type": "code",
   "execution_count": null,
   "metadata": {},
   "outputs": [],
   "source": []
  }
 ],
 "metadata": {
  "kernelspec": {
   "display_name": "Python 3",
   "language": "python",
   "name": "python3"
  },
  "language_info": {
   "codemirror_mode": {
    "name": "ipython",
    "version": 3
   },
   "file_extension": ".py",
   "mimetype": "text/x-python",
   "name": "python",
   "nbconvert_exporter": "python",
   "pygments_lexer": "ipython3",
   "version": "3.8.5"
  }
 },
 "nbformat": 4,
 "nbformat_minor": 5
}
