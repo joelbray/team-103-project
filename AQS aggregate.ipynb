{
 "cells": [
  {
   "cell_type": "code",
   "execution_count": 1,
   "metadata": {},
   "outputs": [
    {
     "name": "stdout",
     "output_type": "stream",
     "text": [
      "Requirement already satisfied: numpy in /Library/Frameworks/Python.framework/Versions/3.8/lib/python3.8/site-packages (from -r requirements.txt (line 1)) (1.19.5)\n",
      "Requirement already satisfied: pandas in /Library/Frameworks/Python.framework/Versions/3.8/lib/python3.8/site-packages (from -r requirements.txt (line 2)) (1.2.0)\n",
      "Requirement already satisfied: seaborn in /Library/Frameworks/Python.framework/Versions/3.8/lib/python3.8/site-packages (from -r requirements.txt (line 3)) (0.11.1)\n",
      "Requirement already satisfied: matplotlib in /Library/Frameworks/Python.framework/Versions/3.8/lib/python3.8/site-packages (from -r requirements.txt (line 4)) (3.3.3)\n",
      "Requirement already satisfied: siuba in /Library/Frameworks/Python.framework/Versions/3.8/lib/python3.8/site-packages (from -r requirements.txt (line 5)) (0.0.24)\n",
      "Requirement already satisfied: CensusData in /Library/Frameworks/Python.framework/Versions/3.8/lib/python3.8/site-packages (from -r requirements.txt (line 6)) (1.13)\n",
      "Requirement already satisfied: scipy in /Library/Frameworks/Python.framework/Versions/3.8/lib/python3.8/site-packages (from -r requirements.txt (line 7)) (1.6.3)\n",
      "Requirement already satisfied: requests in /Library/Frameworks/Python.framework/Versions/3.8/lib/python3.8/site-packages (from CensusData->-r requirements.txt (line 6)) (2.25.1)\n",
      "Requirement already satisfied: kiwisolver>=1.0.1 in /Library/Frameworks/Python.framework/Versions/3.8/lib/python3.8/site-packages (from matplotlib->-r requirements.txt (line 4)) (1.3.1)\n",
      "Requirement already satisfied: pyparsing!=2.0.4,!=2.1.2,!=2.1.6,>=2.0.3 in /Library/Frameworks/Python.framework/Versions/3.8/lib/python3.8/site-packages (from matplotlib->-r requirements.txt (line 4)) (2.4.7)\n",
      "Requirement already satisfied: python-dateutil>=2.1 in /Library/Frameworks/Python.framework/Versions/3.8/lib/python3.8/site-packages (from matplotlib->-r requirements.txt (line 4)) (2.8.1)\n",
      "Requirement already satisfied: cycler>=0.10 in /Library/Frameworks/Python.framework/Versions/3.8/lib/python3.8/site-packages (from matplotlib->-r requirements.txt (line 4)) (0.10.0)\n",
      "Requirement already satisfied: pillow>=6.2.0 in /Library/Frameworks/Python.framework/Versions/3.8/lib/python3.8/site-packages (from matplotlib->-r requirements.txt (line 4)) (8.1.0)\n",
      "Requirement already satisfied: six in /Library/Frameworks/Python.framework/Versions/3.8/lib/python3.8/site-packages (from cycler>=0.10->matplotlib->-r requirements.txt (line 4)) (1.15.0)\n",
      "Requirement already satisfied: pytz>=2017.3 in /Library/Frameworks/Python.framework/Versions/3.8/lib/python3.8/site-packages (from pandas->-r requirements.txt (line 2)) (2020.5)\n",
      "Requirement already satisfied: PyYAML>=3.0.0 in /Library/Frameworks/Python.framework/Versions/3.8/lib/python3.8/site-packages (from siuba->-r requirements.txt (line 5)) (5.4.1)\n",
      "Requirement already satisfied: SQLAlchemy>=1.1.18 in /Library/Frameworks/Python.framework/Versions/3.8/lib/python3.8/site-packages (from siuba->-r requirements.txt (line 5)) (1.4.17)\n",
      "Requirement already satisfied: greenlet!=0.4.17 in /Library/Frameworks/Python.framework/Versions/3.8/lib/python3.8/site-packages (from SQLAlchemy>=1.1.18->siuba->-r requirements.txt (line 5)) (1.1.0)\n",
      "Requirement already satisfied: certifi>=2017.4.17 in /Library/Frameworks/Python.framework/Versions/3.8/lib/python3.8/site-packages (from requests->CensusData->-r requirements.txt (line 6)) (2020.12.5)\n",
      "Requirement already satisfied: chardet<5,>=3.0.2 in /Library/Frameworks/Python.framework/Versions/3.8/lib/python3.8/site-packages (from requests->CensusData->-r requirements.txt (line 6)) (4.0.0)\n",
      "Requirement already satisfied: idna<3,>=2.5 in /Library/Frameworks/Python.framework/Versions/3.8/lib/python3.8/site-packages (from requests->CensusData->-r requirements.txt (line 6)) (2.10)\n",
      "Requirement already satisfied: urllib3<1.27,>=1.21.1 in /Library/Frameworks/Python.framework/Versions/3.8/lib/python3.8/site-packages (from requests->CensusData->-r requirements.txt (line 6)) (1.26.2)\n",
      "\u001b[33mWARNING: You are using pip version 20.3.3; however, version 21.1.2 is available.\n",
      "You should consider upgrading via the '/Library/Frameworks/Python.framework/Versions/3.8/bin/python3.8 -m pip install --upgrade pip' command.\u001b[0m\n"
     ]
    }
   ],
   "source": [
    "! pip install -r requirements.txt"
   ]
  },
  {
   "cell_type": "code",
   "execution_count": 2,
   "metadata": {},
   "outputs": [],
   "source": [
    "# Loading the data\n",
    "import pandas as pd\n",
    "import numpy as np\n"
   ]
  },
  {
   "cell_type": "code",
   "execution_count": 3,
   "metadata": {},
   "outputs": [],
   "source": [
    "import json\n",
    "import matplotlib.pyplot as plt\n",
    "import seaborn as sns\n",
    "import numpy as np\n",
    "import base64"
   ]
  },
  {
   "cell_type": "code",
   "execution_count": 6,
   "metadata": {},
   "outputs": [],
   "source": [
    "df_aoq = pd.read_csv(\"aqs_PM2.5_data_clean.csv\")"
   ]
  },
  {
   "cell_type": "code",
   "execution_count": 7,
   "metadata": {},
   "outputs": [
    {
     "data": {
      "text/html": [
       "<div>\n",
       "<style scoped>\n",
       "    .dataframe tbody tr th:only-of-type {\n",
       "        vertical-align: middle;\n",
       "    }\n",
       "\n",
       "    .dataframe tbody tr th {\n",
       "        vertical-align: top;\n",
       "    }\n",
       "\n",
       "    .dataframe thead th {\n",
       "        text-align: right;\n",
       "    }\n",
       "</style>\n",
       "<table border=\"1\" class=\"dataframe\">\n",
       "  <thead>\n",
       "    <tr style=\"text-align: right;\">\n",
       "      <th></th>\n",
       "      <th>Unnamed: 0</th>\n",
       "      <th>date_local</th>\n",
       "      <th>county</th>\n",
       "      <th>city</th>\n",
       "      <th>latitude</th>\n",
       "      <th>longitude</th>\n",
       "      <th>aqi</th>\n",
       "      <th>units_of_measure</th>\n",
       "      <th>first_max_value</th>\n",
       "      <th>first_max_hour</th>\n",
       "    </tr>\n",
       "  </thead>\n",
       "  <tbody>\n",
       "    <tr>\n",
       "      <th>0</th>\n",
       "      <td>0</td>\n",
       "      <td>2013-12-30</td>\n",
       "      <td>Humboldt</td>\n",
       "      <td>Not in a city</td>\n",
       "      <td>40.71528</td>\n",
       "      <td>-124.20139</td>\n",
       "      <td>23.0</td>\n",
       "      <td>Micrograms/cubic meter (LC)</td>\n",
       "      <td>5.5</td>\n",
       "      <td>0</td>\n",
       "    </tr>\n",
       "    <tr>\n",
       "      <th>1</th>\n",
       "      <td>1</td>\n",
       "      <td>2013-12-30</td>\n",
       "      <td>Humboldt</td>\n",
       "      <td>Not in a city</td>\n",
       "      <td>40.71528</td>\n",
       "      <td>-124.20139</td>\n",
       "      <td>23.0</td>\n",
       "      <td>Micrograms/cubic meter (LC)</td>\n",
       "      <td>5.5</td>\n",
       "      <td>0</td>\n",
       "    </tr>\n",
       "    <tr>\n",
       "      <th>2</th>\n",
       "      <td>2</td>\n",
       "      <td>2013-12-30</td>\n",
       "      <td>Humboldt</td>\n",
       "      <td>Not in a city</td>\n",
       "      <td>40.71528</td>\n",
       "      <td>-124.20139</td>\n",
       "      <td>23.0</td>\n",
       "      <td>Micrograms/cubic meter (LC)</td>\n",
       "      <td>5.5</td>\n",
       "      <td>0</td>\n",
       "    </tr>\n",
       "    <tr>\n",
       "      <th>3</th>\n",
       "      <td>3</td>\n",
       "      <td>2013-12-30</td>\n",
       "      <td>Humboldt</td>\n",
       "      <td>Not in a city</td>\n",
       "      <td>40.71528</td>\n",
       "      <td>-124.20139</td>\n",
       "      <td>23.0</td>\n",
       "      <td>Micrograms/cubic meter (LC)</td>\n",
       "      <td>5.5</td>\n",
       "      <td>0</td>\n",
       "    </tr>\n",
       "    <tr>\n",
       "      <th>4</th>\n",
       "      <td>4</td>\n",
       "      <td>2013-12-27</td>\n",
       "      <td>Humboldt</td>\n",
       "      <td>Not in a city</td>\n",
       "      <td>40.71528</td>\n",
       "      <td>-124.20139</td>\n",
       "      <td>38.0</td>\n",
       "      <td>Micrograms/cubic meter (LC)</td>\n",
       "      <td>9.1</td>\n",
       "      <td>0</td>\n",
       "    </tr>\n",
       "  </tbody>\n",
       "</table>\n",
       "</div>"
      ],
      "text/plain": [
       "   Unnamed: 0  date_local    county           city  latitude  longitude   aqi  \\\n",
       "0           0  2013-12-30  Humboldt  Not in a city  40.71528 -124.20139  23.0   \n",
       "1           1  2013-12-30  Humboldt  Not in a city  40.71528 -124.20139  23.0   \n",
       "2           2  2013-12-30  Humboldt  Not in a city  40.71528 -124.20139  23.0   \n",
       "3           3  2013-12-30  Humboldt  Not in a city  40.71528 -124.20139  23.0   \n",
       "4           4  2013-12-27  Humboldt  Not in a city  40.71528 -124.20139  38.0   \n",
       "\n",
       "              units_of_measure  first_max_value  first_max_hour  \n",
       "0  Micrograms/cubic meter (LC)              5.5               0  \n",
       "1  Micrograms/cubic meter (LC)              5.5               0  \n",
       "2  Micrograms/cubic meter (LC)              5.5               0  \n",
       "3  Micrograms/cubic meter (LC)              5.5               0  \n",
       "4  Micrograms/cubic meter (LC)              9.1               0  "
      ]
     },
     "execution_count": 7,
     "metadata": {},
     "output_type": "execute_result"
    }
   ],
   "source": [
    "df_aoq.head()"
   ]
  },
  {
   "cell_type": "code",
   "execution_count": 8,
   "metadata": {},
   "outputs": [
    {
     "data": {
      "text/plain": [
       "pandas.core.frame.DataFrame"
      ]
     },
     "execution_count": 8,
     "metadata": {},
     "output_type": "execute_result"
    }
   ],
   "source": [
    "type(df_aoq)"
   ]
  },
  {
   "cell_type": "code",
   "execution_count": 9,
   "metadata": {},
   "outputs": [
    {
     "data": {
      "text/plain": [
       "array(['Humboldt', 'Riverside', 'Ventura', 'San Diego', 'Sacramento',\n",
       "       'Shasta', 'Tulare', 'Santa Clara', 'Monterey', 'Placer',\n",
       "       'Los Angeles', 'San Bernardino', 'Stanislaus', 'Orange', 'Merced',\n",
       "       'Inyo', 'Fresno', 'Kings', 'Butte', 'Imperial', 'Kern', 'Nevada',\n",
       "       'Lake', 'Sutter', 'Yolo', 'Madera', 'Mendocino', 'Sonoma',\n",
       "       'Santa Barbara', 'Contra Costa', 'San Luis Obispo', 'Napa',\n",
       "       'Alameda', 'Santa Cruz', 'San Joaquin', 'Marin', 'San Francisco',\n",
       "       'San Mateo', 'Solano', 'San Benito', 'Tehama', 'Del Norte'],\n",
       "      dtype=object)"
      ]
     },
     "execution_count": 9,
     "metadata": {},
     "output_type": "execute_result"
    }
   ],
   "source": [
    "df_aoq[\"county\"].unique()"
   ]
  },
  {
   "cell_type": "code",
   "execution_count": 10,
   "metadata": {},
   "outputs": [
    {
     "data": {
      "text/plain": [
       "Los Angeles        82227\n",
       "Ventura            69570\n",
       "Fresno             69570\n",
       "Riverside          68838\n",
       "Alameda            55672\n",
       "San Diego          47815\n",
       "San Luis Obispo    44724\n",
       "Sacramento         41248\n",
       "Santa Barbara      38818\n",
       "San Bernardino     38356\n",
       "Monterey           37560\n",
       "Santa Clara        36108\n",
       "Kern               35379\n",
       "San Joaquin        33278\n",
       "Inyo               25494\n",
       "Imperial           24218\n",
       "Contra Costa       23837\n",
       "Stanislaus         23416\n",
       "Solano             22988\n",
       "Santa Cruz         22331\n",
       "Mendocino          21566\n",
       "Orange             20541\n",
       "Kings              19906\n",
       "Placer             16159\n",
       "Merced             14829\n",
       "Madera             14685\n",
       "San Benito         11732\n",
       "San Francisco      11628\n",
       "San Mateo          11561\n",
       "Napa               11560\n",
       "Sonoma             11548\n",
       "Marin              11472\n",
       "Butte              10728\n",
       "Sutter             10720\n",
       "Nevada              8909\n",
       "Humboldt            8620\n",
       "Tehama              7240\n",
       "Tulare              3701\n",
       "Shasta              2712\n",
       "Lake                2020\n",
       "Del Norte           1888\n",
       "Yolo                1796\n",
       "Name: county, dtype: int64"
      ]
     },
     "execution_count": 10,
     "metadata": {},
     "output_type": "execute_result"
    }
   ],
   "source": [
    "df_aoq[\"county\"].value_counts()"
   ]
  },
  {
   "cell_type": "code",
   "execution_count": 11,
   "metadata": {},
   "outputs": [
    {
     "data": {
      "text/plain": [
       "2018-11-10    580\n",
       "2020-09-12    573\n",
       "2020-10-18    572\n",
       "2020-08-07    568\n",
       "2020-10-06    568\n",
       "             ... \n",
       "2021-05-03      4\n",
       "2021-05-01      4\n",
       "2021-05-10      4\n",
       "2021-05-06      4\n",
       "2021-05-31      4\n",
       "Name: date_local, Length: 3071, dtype: int64"
      ]
     },
     "execution_count": 11,
     "metadata": {},
     "output_type": "execute_result"
    }
   ],
   "source": [
    "df_aoq[\"date_local\"].value_counts()"
   ]
  },
  {
   "cell_type": "code",
   "execution_count": 12,
   "metadata": {},
   "outputs": [],
   "source": [
    "df_aoq[\"date_local\"]=pd.to_datetime(df_aoq[\"date_local\"])"
   ]
  },
  {
   "cell_type": "code",
   "execution_count": 13,
   "metadata": {},
   "outputs": [
    {
     "data": {
      "text/plain": [
       "0         2013-12-30\n",
       "1         2013-12-30\n",
       "2         2013-12-30\n",
       "3         2013-12-30\n",
       "4         2013-12-27\n",
       "             ...    \n",
       "1076963   2021-01-02\n",
       "1076964   2021-01-01\n",
       "1076965   2021-01-01\n",
       "1076966   2021-01-01\n",
       "1076967   2021-01-01\n",
       "Name: date_local, Length: 1076968, dtype: datetime64[ns]"
      ]
     },
     "execution_count": 13,
     "metadata": {},
     "output_type": "execute_result"
    }
   ],
   "source": [
    "df_aoq[\"date_local\"]=pd.to_datetime(df_aoq[\"date_local\"])\n",
    "df_aoq[\"date_local\"]"
   ]
  },
  {
   "cell_type": "code",
   "execution_count": 14,
   "metadata": {},
   "outputs": [
    {
     "data": {
      "text/plain": [
       "2018-11-10    580\n",
       "2020-09-12    573\n",
       "2020-10-18    572\n",
       "2020-08-07    568\n",
       "2020-10-06    568\n",
       "             ... \n",
       "2021-05-31      4\n",
       "2021-05-17      4\n",
       "2021-05-20      4\n",
       "2021-05-23      4\n",
       "2021-05-07      4\n",
       "Name: date_local, Length: 3071, dtype: int64"
      ]
     },
     "execution_count": 14,
     "metadata": {},
     "output_type": "execute_result"
    }
   ],
   "source": [
    "df_aoq[\"date_local\"].value_counts()"
   ]
  },
  {
   "cell_type": "code",
   "execution_count": 15,
   "metadata": {},
   "outputs": [
    {
     "data": {
      "text/plain": [
       "0          2013\n",
       "1          2013\n",
       "2          2013\n",
       "3          2013\n",
       "4          2013\n",
       "           ... \n",
       "1076963    2021\n",
       "1076964    2021\n",
       "1076965    2021\n",
       "1076966    2021\n",
       "1076967    2021\n",
       "Name: date_local, Length: 1076968, dtype: int64"
      ]
     },
     "execution_count": 15,
     "metadata": {},
     "output_type": "execute_result"
    }
   ],
   "source": [
    "df_aoq[\"date_local\"].dt.year"
   ]
  },
  {
   "cell_type": "code",
   "execution_count": 16,
   "metadata": {},
   "outputs": [],
   "source": [
    "df_aoq[\"Year\"]=df_aoq[\"date_local\"].dt.year"
   ]
  },
  {
   "cell_type": "code",
   "execution_count": 17,
   "metadata": {},
   "outputs": [
    {
     "data": {
      "text/plain": [
       "2020    148407\n",
       "2018    145216\n",
       "2019    144649\n",
       "2017    140540\n",
       "2016    135334\n",
       "2015    123712\n",
       "2013    111619\n",
       "2014    111486\n",
       "2021     16005\n",
       "Name: Year, dtype: int64"
      ]
     },
     "execution_count": 17,
     "metadata": {},
     "output_type": "execute_result"
    }
   ],
   "source": [
    "df_aoq.Year.value_counts()"
   ]
  },
  {
   "cell_type": "code",
   "execution_count": 101,
   "metadata": {},
   "outputs": [],
   "source": [
    "aoq=df_aoq[['Year','county','aqi']].groupby([\"Year\",\"county\"]).agg(['count','min','max','mean','median']).reset_index()"
   ]
  },
  {
   "cell_type": "code",
   "execution_count": 102,
   "metadata": {},
   "outputs": [],
   "source": [
    "aoq.columns = ['_'.join(col) for col in aoq.columns]"
   ]
  },
  {
   "cell_type": "code",
   "execution_count": 103,
   "metadata": {},
   "outputs": [
    {
     "data": {
      "text/html": [
       "<div>\n",
       "<style scoped>\n",
       "    .dataframe tbody tr th:only-of-type {\n",
       "        vertical-align: middle;\n",
       "    }\n",
       "\n",
       "    .dataframe tbody tr th {\n",
       "        vertical-align: top;\n",
       "    }\n",
       "\n",
       "    .dataframe thead th {\n",
       "        text-align: right;\n",
       "    }\n",
       "</style>\n",
       "<table border=\"1\" class=\"dataframe\">\n",
       "  <thead>\n",
       "    <tr style=\"text-align: right;\">\n",
       "      <th></th>\n",
       "      <th>Year_</th>\n",
       "      <th>county_</th>\n",
       "      <th>aqi_count</th>\n",
       "      <th>aqi_min</th>\n",
       "      <th>aqi_max</th>\n",
       "      <th>aqi_mean</th>\n",
       "      <th>aqi_median</th>\n",
       "    </tr>\n",
       "  </thead>\n",
       "  <tbody>\n",
       "    <tr>\n",
       "      <th>0</th>\n",
       "      <td>2013</td>\n",
       "      <td>Alameda</td>\n",
       "      <td>4177</td>\n",
       "      <td>0.0</td>\n",
       "      <td>119.0</td>\n",
       "      <td>40.067273</td>\n",
       "      <td>38.0</td>\n",
       "    </tr>\n",
       "    <tr>\n",
       "      <th>1</th>\n",
       "      <td>2013</td>\n",
       "      <td>Butte</td>\n",
       "      <td>1292</td>\n",
       "      <td>4.0</td>\n",
       "      <td>109.0</td>\n",
       "      <td>38.229102</td>\n",
       "      <td>32.0</td>\n",
       "    </tr>\n",
       "    <tr>\n",
       "      <th>2</th>\n",
       "      <td>2013</td>\n",
       "      <td>Contra Costa</td>\n",
       "      <td>2868</td>\n",
       "      <td>4.0</td>\n",
       "      <td>115.0</td>\n",
       "      <td>38.174338</td>\n",
       "      <td>36.0</td>\n",
       "    </tr>\n",
       "    <tr>\n",
       "      <th>3</th>\n",
       "      <td>2013</td>\n",
       "      <td>Fresno</td>\n",
       "      <td>6409</td>\n",
       "      <td>2.0</td>\n",
       "      <td>176.0</td>\n",
       "      <td>51.877204</td>\n",
       "      <td>44.0</td>\n",
       "    </tr>\n",
       "    <tr>\n",
       "      <th>4</th>\n",
       "      <td>2013</td>\n",
       "      <td>Humboldt</td>\n",
       "      <td>1756</td>\n",
       "      <td>1.0</td>\n",
       "      <td>85.0</td>\n",
       "      <td>29.505695</td>\n",
       "      <td>27.0</td>\n",
       "    </tr>\n",
       "    <tr>\n",
       "      <th>...</th>\n",
       "      <td>...</td>\n",
       "      <td>...</td>\n",
       "      <td>...</td>\n",
       "      <td>...</td>\n",
       "      <td>...</td>\n",
       "      <td>...</td>\n",
       "      <td>...</td>\n",
       "    </tr>\n",
       "    <tr>\n",
       "      <th>350</th>\n",
       "      <td>2021</td>\n",
       "      <td>Santa Cruz</td>\n",
       "      <td>712</td>\n",
       "      <td>0.0</td>\n",
       "      <td>73.0</td>\n",
       "      <td>22.544944</td>\n",
       "      <td>20.0</td>\n",
       "    </tr>\n",
       "    <tr>\n",
       "      <th>351</th>\n",
       "      <td>2021</td>\n",
       "      <td>Solano</td>\n",
       "      <td>472</td>\n",
       "      <td>11.0</td>\n",
       "      <td>84.0</td>\n",
       "      <td>39.694915</td>\n",
       "      <td>38.0</td>\n",
       "    </tr>\n",
       "    <tr>\n",
       "      <th>352</th>\n",
       "      <td>2021</td>\n",
       "      <td>Sonoma</td>\n",
       "      <td>236</td>\n",
       "      <td>11.0</td>\n",
       "      <td>67.0</td>\n",
       "      <td>29.050847</td>\n",
       "      <td>27.0</td>\n",
       "    </tr>\n",
       "    <tr>\n",
       "      <th>353</th>\n",
       "      <td>2021</td>\n",
       "      <td>Tehama</td>\n",
       "      <td>308</td>\n",
       "      <td>5.0</td>\n",
       "      <td>74.0</td>\n",
       "      <td>25.077922</td>\n",
       "      <td>19.0</td>\n",
       "    </tr>\n",
       "    <tr>\n",
       "      <th>354</th>\n",
       "      <td>2021</td>\n",
       "      <td>Ventura</td>\n",
       "      <td>2752</td>\n",
       "      <td>0.0</td>\n",
       "      <td>67.0</td>\n",
       "      <td>24.302326</td>\n",
       "      <td>21.0</td>\n",
       "    </tr>\n",
       "  </tbody>\n",
       "</table>\n",
       "<p>355 rows × 7 columns</p>\n",
       "</div>"
      ],
      "text/plain": [
       "     Year_       county_  aqi_count  aqi_min  aqi_max   aqi_mean  aqi_median\n",
       "0     2013       Alameda       4177      0.0    119.0  40.067273        38.0\n",
       "1     2013         Butte       1292      4.0    109.0  38.229102        32.0\n",
       "2     2013  Contra Costa       2868      4.0    115.0  38.174338        36.0\n",
       "3     2013        Fresno       6409      2.0    176.0  51.877204        44.0\n",
       "4     2013      Humboldt       1756      1.0     85.0  29.505695        27.0\n",
       "..     ...           ...        ...      ...      ...        ...         ...\n",
       "350   2021    Santa Cruz        712      0.0     73.0  22.544944        20.0\n",
       "351   2021        Solano        472     11.0     84.0  39.694915        38.0\n",
       "352   2021        Sonoma        236     11.0     67.0  29.050847        27.0\n",
       "353   2021        Tehama        308      5.0     74.0  25.077922        19.0\n",
       "354   2021       Ventura       2752      0.0     67.0  24.302326        21.0\n",
       "\n",
       "[355 rows x 7 columns]"
      ]
     },
     "execution_count": 103,
     "metadata": {},
     "output_type": "execute_result"
    }
   ],
   "source": [
    "aoq"
   ]
  },
  {
   "cell_type": "code",
   "execution_count": 104,
   "metadata": {},
   "outputs": [
    {
     "data": {
      "text/plain": [
       "pandas.core.frame.DataFrame"
      ]
     },
     "execution_count": 104,
     "metadata": {},
     "output_type": "execute_result"
    }
   ],
   "source": [
    "type(aoq)"
   ]
  },
  {
   "cell_type": "code",
   "execution_count": 105,
   "metadata": {},
   "outputs": [],
   "source": [
    "aoq.to_csv(\"aoq_agg_data.csv\", encoding=\"utf-8\", index=False)"
   ]
  }
 ],
 "metadata": {
  "kernelspec": {
   "display_name": "Python 3",
   "language": "python",
   "name": "python3"
  },
  "language_info": {
   "codemirror_mode": {
    "name": "ipython",
    "version": 3
   },
   "file_extension": ".py",
   "mimetype": "text/x-python",
   "name": "python",
   "nbconvert_exporter": "python",
   "pygments_lexer": "ipython3",
   "version": "3.8.3"
  }
 },
 "nbformat": 4,
 "nbformat_minor": 5
}
