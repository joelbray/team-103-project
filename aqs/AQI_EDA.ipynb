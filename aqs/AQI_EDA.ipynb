{
 "cells": [
  {
   "cell_type": "code",
   "execution_count": null,
   "metadata": {},
   "outputs": [],
   "source": [
    "import pandas as pd\n",
    "import matplotlib.pyplot as plt\n",
    "import seaborn as sns\n",
    "import folium\n",
    "from folium.plugins import HeatMapWithTime\n",
    "import pingouin as pg"
   ]
  },
  {
   "cell_type": "code",
   "execution_count": null,
   "metadata": {},
   "outputs": [],
   "source": [
    "df = pd.read_json(\"aqs_PM2.5_data_clean.json\")"
   ]
  },
  {
   "cell_type": "code",
   "execution_count": null,
   "metadata": {},
   "outputs": [],
   "source": [
    "df.head()"
   ]
  },
  {
   "cell_type": "code",
   "execution_count": null,
   "metadata": {},
   "outputs": [],
   "source": [
    "#get year\n",
    "df['date_local'] = pd.to_datetime(df['date_local'])\n",
    "df['year'] = df['date_local'].dt.year"
   ]
  },
  {
   "cell_type": "code",
   "execution_count": null,
   "metadata": {},
   "outputs": [],
   "source": [
    "#create dataframes with aqi health index\n",
    "good = df[df['aqi']<50][['aqi', 'date_local', 'county', 'latitude', 'longitude']].reset_index(drop=True)\n",
    "moderate = df[(df['aqi']>51) &(df['aqi']<100)][['aqi', 'date_local', 'county', 'latitude', 'longitude']].reset_index(drop=True)\n",
    "sensitive = df[(df['aqi']>101) &(df['aqi']<150)][['aqi', 'date_local', 'county', 'latitude', 'longitude']].reset_index(drop=True)\n",
    "unhealthy = df[(df['aqi']>151) &(df['aqi']<200)][['aqi', 'date_local', 'county', 'latitude', 'longitude']].reset_index(drop=True)\n",
    "very_unhealthy = df[(df['aqi']>201) &(df['aqi']<300)][['aqi', 'date_local', 'county', 'latitude', 'longitude']].reset_index(drop=True)\n",
    "hazard = df[df['aqi']>301][['aqi', 'date_local', 'county', 'latitude', 'longitude']].reset_index(drop=True)"
   ]
  },
  {
   "cell_type": "code",
   "execution_count": null,
   "metadata": {},
   "outputs": [],
   "source": [
    "#examine AQI index levels over the couple of years in scattor plot\n",
    "ax1 = good.plot(kind='scatter', x='date_local', y='aqi', color='g', label='Good')\n",
    "ax2 = moderate.plot(kind='scatter', x='date_local', y='aqi', color='y', ax=ax1, label='Moderate')\n",
    "ax3 = sensitive.plot(kind='scatter', x='date_local', y='aqi', color='orange', ax=ax1, label='Unhealth for Senstive')\n",
    "ax4 = unhealthy.plot(kind='scatter', x='date_local', y='aqi', color='r', ax=ax1, label='Unhealthy')\n",
    "ax5 = very_unhealthy.plot(kind='scatter', x='date_local', y='aqi', color='purple', ax=ax1, label='Very Unhealthy')\n",
    "ax6 = hazard.plot(kind='scatter', x='date_local', y='aqi', color='darkred', ax=ax1, label='Hazard')\n",
    "\n",
    "plt.title('AQI Index Since 2011')\n",
    "#plt.legend(handles = ['Good', 'Moderate', 'Unhealthy for Senstive', 'Unhealthy', 'Health Alert', 'Hazard'])\n",
    "plt.legend(loc='best')\n",
    "plt.show()"
   ]
  },
  {
   "cell_type": "code",
   "execution_count": null,
   "metadata": {},
   "outputs": [],
   "source": [
    "#examine AQI index frequency over a year\n",
    "for i in range(len(df['aqi'])):\n",
    "    if df['aqi'].iloc[i] <= 50:\n",
    "        df['aqi_index_level'] = 'good'\n",
    "    elif (df['aqi'].iloc[i] >= 51) and (df['aqi'].iloc[i] <= 100):\n",
    "        df['aqi_index_level'] = 'moderate'\n",
    "    elif (df['aqi'].iloc[i] >= 101) and (df['aqi'].iloc[i] <= 150):\n",
    "        df['aqi_index_level'] = 'unhealthy_senstive'\n",
    "    elif (df['aqi'].iloc[i] >= 151) and (df['aqi'].iloc[i] <= 200):\n",
    "        df['aqi_index_level'] = 'unhealthy'\n",
    "    elif (df['aqi'].iloc[i] >= 201) and (df['aqi'].iloc[i] <= 300):\n",
    "        df['aqi_index_level'] = 'very_unhealthy'\n",
    "    elif (df['aqi'].iloc[i] <= 301):\n",
    "        df['aqi_index_level'] = 'hazardous'\n",
    "    i+=1"
   ]
  },
  {
   "cell_type": "code",
   "execution_count": null,
   "metadata": {},
   "outputs": [],
   "source": [
    "#add months to dataframe\n",
    "df['month'] = pd.to_datetime(df['date_local']).dt.month"
   ]
  },
  {
   "cell_type": "code",
   "execution_count": null,
   "metadata": {},
   "outputs": [],
   "source": [
    "#examine aqi per year\n",
    "box_plot = sns.boxplot(x='month',\n",
    "                       y='aqi',\n",
    "                       data=df\n",
    "                      )\n",
    "\n",
    "plt.title('AQI Per Year')"
   ]
  },
  {
   "cell_type": "code",
   "execution_count": null,
   "metadata": {},
   "outputs": [],
   "source": [
    "df[df['month']==12]['aqi'].unique()"
   ]
  },
  {
   "cell_type": "code",
   "execution_count": null,
   "metadata": {},
   "outputs": [],
   "source": [
    "#examine aqi per month\n",
    "box_plot = sns.boxplot(x='month',\n",
    "                       y='aqi',\n",
    "                       data=df\n",
    "                      )\n",
    "\n",
    "plt.title('AQI Per Month')"
   ]
  },
  {
   "cell_type": "code",
   "execution_count": null,
   "metadata": {},
   "outputs": [],
   "source": [
    "#examine AQI for county\n",
    "fig_dims=(15,5)\n",
    "fig, ax = plt.subplots(figsize=fig_dims)\n",
    "box_plot = sns.boxplot(x='county',\n",
    "                       y='aqi',\n",
    "                       data=df,\n",
    "                       ax=ax\n",
    "                      )\n",
    "plt.title('AQI per County')\n",
    "plt.xticks(rotation=90)"
   ]
  },
  {
   "cell_type": "code",
   "execution_count": null,
   "metadata": {},
   "outputs": [],
   "source": [
    "#see AQI levels on map\n",
    "#build parent map\n",
    "start = [36, -121]\n",
    "map1=folium.Map(location=start, zoom_start=6, tiles='StamenTerrain')"
   ]
  },
  {
   "cell_type": "code",
   "execution_count": null,
   "metadata": {},
   "outputs": [],
   "source": [
    "#examine harsh aqi level coordinates\n",
    "for i in range(len(unhealthy)):\n",
    "    marker=folium.CircleMarker(location = [unhealthy['latitude'].iloc[i], unhealthy['longitude'].iloc[i]], radius=2, color='red', fill=True)\n",
    "    marker.add_to(map1)\n",
    "\n",
    "for i in range(len(very_unhealthy)):\n",
    "    marker=folium.CircleMarker(location = [very_unhealthy['latitude'].iloc[i], very_unhealthy['longitude'].iloc[i]], radius=2, color='purple', fill=True)\n",
    "    marker.add_to(map1)\n",
    "    \n",
    "for i in range(len(hazard)):\n",
    "    marker=folium.CircleMarker(location = [hazard['latitude'].iloc[i], hazard['longitude'].iloc[i]], radius=2, color='darkred', fill=True)\n",
    "    marker.add_to(map1)\n",
    "\n",
    "map1"
   ]
  },
  {
   "cell_type": "code",
   "execution_count": null,
   "metadata": {},
   "outputs": [],
   "source": [
    "#save into map into a file\n",
    "map1.save('map1.html')"
   ]
  },
  {
   "cell_type": "code",
   "execution_count": null,
   "metadata": {},
   "outputs": [],
   "source": [
    "#examine aqi as heatmap\n",
    "map2=folium.Map(location=start, zoom_start=6, tiles='StamenTerrain')"
   ]
  },
  {
   "cell_type": "code",
   "execution_count": null,
   "metadata": {},
   "outputs": [],
   "source": [
    "coord = list(zip(df['latitude'], df['longitude'], df['aqi']))"
   ]
  },
  {
   "cell_type": "code",
   "execution_count": null,
   "metadata": {},
   "outputs": [],
   "source": [
    "heat_layer1 = HeatMap(coord, min_opacity=0.5, radius=8, tiles='StamenTerrain')"
   ]
  },
  {
   "cell_type": "code",
   "execution_count": null,
   "metadata": {},
   "outputs": [],
   "source": [
    "map2.add_child(heat_layer1)"
   ]
  },
  {
   "cell_type": "markdown",
   "metadata": {},
   "source": [
    "What if we examine the changes of API over a series of time? I found this website lays out steps to examine crime over time: https://medium.com/nerd-for-tech/time-lapse-heat-maps-with-folium-1847f53ec956"
   ]
  },
  {
   "cell_type": "code",
   "execution_count": null,
   "metadata": {},
   "outputs": [],
   "source": [
    "#dataframe shows the max api per county per month per year\n",
    "max_api_county_month_year = df.groupby(['year', 'month', 'county'])[['aqi']].agg('max')"
   ]
  },
  {
   "cell_type": "code",
   "execution_count": null,
   "metadata": {},
   "outputs": [],
   "source": [
    "max_api_county_month_year"
   ]
  },
  {
   "cell_type": "code",
   "execution_count": null,
   "metadata": {},
   "outputs": [],
   "source": [
    "#make a list of month/year to use for heatmap index\n",
    "df['month_year'] = df['date_local'].dt.to_period('M')"
   ]
  },
  {
   "cell_type": "code",
   "execution_count": null,
   "metadata": {},
   "outputs": [],
   "source": [
    "#HeatMapwithTime uses weights; create weight column of aqi\n",
    "df['weight'] = df['aqi']/df['aqi'].sum()"
   ]
  },
  {
   "cell_type": "code",
   "execution_count": null,
   "metadata": {},
   "outputs": [],
   "source": [
    "aqi_month_year = df.groupby(['year', 'month'])[['month_year', 'latitude', 'longitude', 'aqi', 'weight']].agg('max')"
   ]
  },
  {
   "cell_type": "code",
   "execution_count": null,
   "metadata": {},
   "outputs": [],
   "source": [
    "coord_time = list(zip(aqi_month_year['latitude'], aqi_month_year['longitude'], df['weight']))"
   ]
  },
  {
   "cell_type": "code",
   "execution_count": null,
   "metadata": {},
   "outputs": [],
   "source": [
    "aqi_month_year"
   ]
  },
  {
   "cell_type": "code",
   "execution_count": null,
   "metadata": {},
   "outputs": [],
   "source": [
    "map3=folium.Map(location=start, control_scale=True, zoom_start=6, tiles='StamenTerrain')"
   ]
  },
  {
   "cell_type": "code",
   "execution_count": null,
   "metadata": {},
   "outputs": [],
   "source": [
    "map3"
   ]
  },
  {
   "cell_type": "code",
   "execution_count": null,
   "metadata": {},
   "outputs": [],
   "source": [
    "#examine aqi index with heatmap\n",
    "heat_layer2 = HeatMapWithTime(data=coord_time,\n",
    "                             index=aqi_month_year['month_year'],\n",
    "                             min_opacity=0.3,\n",
    "                             scale_radius=8)"
   ]
  },
  {
   "cell_type": "code",
   "execution_count": null,
   "metadata": {},
   "outputs": [],
   "source": [
    "#map is not showing up\n",
    "map3.add_child(heat_layer2)"
   ]
  },
  {
   "cell_type": "code",
   "execution_count": null,
   "metadata": {},
   "outputs": [],
   "source": [
    "map3.showMap()"
   ]
  },
  {
   "cell_type": "code",
   "execution_count": null,
   "metadata": {},
   "outputs": [],
   "source": []
  }
 ],
 "metadata": {
  "kernelspec": {
   "display_name": "Python 3",
   "language": "python",
   "name": "python3"
  },
  "language_info": {
   "codemirror_mode": {
    "name": "ipython",
    "version": 3
   },
   "file_extension": ".py",
   "mimetype": "text/x-python",
   "name": "python",
   "nbconvert_exporter": "python",
   "pygments_lexer": "ipython3",
<<<<<<< HEAD
<<<<<<< HEAD
   "version": "3.8.8"
=======
   "version": "3.8.5"
>>>>>>> 56a6ded (add AQI Eda)
=======
   "version": "3.8.8"
>>>>>>> 2f55344 (start risk_index)
  }
 },
 "nbformat": 4,
 "nbformat_minor": 4
}
